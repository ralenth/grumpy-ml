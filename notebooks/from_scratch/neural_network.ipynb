{
 "cells": [
  {
   "cell_type": "markdown",
   "id": "visible-latitude",
   "metadata": {},
   "source": [
    "## NA4AI - hw8\n",
    "\n",
    "**Author: Adriana Bukala**\n",
    "**Index number: 394064**\n",
    "\n",
    "Used PC:\n",
    "* 6-years old ASUS,\n",
    "* SSD disc,\n",
    "* 8GB of RAM,\n",
    "* procesor intel core i7.\n",
    "\n",
    "Side-note: I didn't use tensor notation, because it was too exhausting for my computer."
   ]
  },
  {
   "cell_type": "code",
   "execution_count": 1,
   "id": "exceptional-jewelry",
   "metadata": {},
   "outputs": [],
   "source": [
    "import matplotlib.pyplot as plt\n",
    "import numpy as np\n",
    "from keras.utils.np_utils import to_categorical\n",
    "from sklearn.metrics import accuracy_score\n",
    "from sklearn.model_selection import train_test_split\n",
    "from tensorflow.keras.datasets import mnist\n",
    "import time"
   ]
  },
  {
   "cell_type": "code",
   "execution_count": 2,
   "id": "atlantic-determination",
   "metadata": {},
   "outputs": [],
   "source": [
    "# add bias\n",
    "x_train = np.ones((60000, 785))\n",
    "x_test = np.ones((10000, 785))\n",
    "\n",
    "(x1, y_train), (x2, y_test) = mnist.load_data()\n",
    "\n",
    "y_train = to_categorical(y_train)\n",
    "y_test = to_categorical(y_test)\n",
    "\n",
    "x1 = x1.reshape(-1, 784)\n",
    "x2 = x2.reshape(-1, 784)\n",
    "\n",
    "x_train[:, :-1] = x1\n",
    "x_test[:, :-1] = x2\n",
    "\n",
    "# normalize\n",
    "x_train = (x_train / 255).astype('float32')\n",
    "x_test = (x_test / 255).astype('float32')"
   ]
  },
  {
   "cell_type": "code",
   "execution_count": 3,
   "id": "crucial-circular",
   "metadata": {},
   "outputs": [
    {
     "data": {
      "text/plain": [
       "((60000, 10), (60000, 785), (10000, 785))"
      ]
     },
     "execution_count": 3,
     "metadata": {},
     "output_type": "execute_result"
    }
   ],
   "source": [
    "y_train.shape, x_train.shape, x_test.shape"
   ]
  },
  {
   "cell_type": "code",
   "execution_count": 4,
   "id": "sitting-sleeve",
   "metadata": {},
   "outputs": [],
   "source": [
    "def sigmoid(x, derivative=False):\n",
    "    if derivative:\n",
    "        return sigmoid(x) * (1 - sigmoid(x))\n",
    "    return 1 / (1 + np.exp(-x))\n",
    "\n",
    "def softmax(x, derivative=False):\n",
    "    exps = np.exp(x - np.max(x, axis=0))\n",
    "    if derivative:\n",
    "        return exps / np.sum(exps, axis=0) * (1 - exps / np.sum(exps, axis=0))\n",
    "    return exps / np.sum(exps, axis=0)"
   ]
  },
  {
   "cell_type": "code",
   "execution_count": 5,
   "id": "prompt-december",
   "metadata": {},
   "outputs": [],
   "source": [
    "def cross_entropy_loss(pred, y):\n",
    "    return -np.sum(y * np.log(pred + 1e-20))"
   ]
  },
  {
   "cell_type": "markdown",
   "id": "affiliated-giant",
   "metadata": {},
   "source": [
    "### SGD + Adam implementation"
   ]
  },
  {
   "cell_type": "code",
   "execution_count": 6,
   "id": "domestic-asthma",
   "metadata": {},
   "outputs": [],
   "source": [
    "class NeuralNetwork():\n",
    "    def __init__(self):\n",
    "        self.epochs = None\n",
    "        self.l_rate = None\n",
    "        self._lambda = None\n",
    "\n",
    "        self.params = {}\n",
    "        self.activations = []\n",
    "        self.n_layers = 0\n",
    "        \n",
    "        self.mts = {}\n",
    "        self.vts = {}\n",
    "    \n",
    "    def add_layer(self, n, activation, input_size=None):\n",
    "        \"\"\"Add new layer.\n",
    "        \n",
    "        Parameters\n",
    "        ----------\n",
    "        n : int\n",
    "            Size of the first dimension of the new layer.\n",
    "        activation : {linear, sigmoid, softmax}\n",
    "        input_size : int\n",
    "            When declaring a first layer, input_size is required.\n",
    "        \"\"\"\n",
    "        \n",
    "        if not self.params:\n",
    "            self.params['W1'] = .1 * np.random.randn(n, input_size)\n",
    "        else:\n",
    "            # create a weights matrix of size (n, 1st dim of previous layer)\n",
    "            self.params[f'W{self.n_layers + 1}'] = .1 * np.random.randn(\n",
    "                n, self.params[f'W{self.n_layers}'].shape[0]\n",
    "            )\n",
    "        self.n_layers += 1\n",
    "        self.activations.append(activation)\n",
    "        \n",
    "        self.mts[f'W{self.n_layers}'] = 0\n",
    "        self.vts[f'W{self.n_layers}'] = 0\n",
    "\n",
    "\n",
    "    def forward_pass(self, x_train):\n",
    "        \"\"\"Forward pass of neural network.\n",
    "        \n",
    "        Nodes computed by dot operation of current weight matrix (let's say of index k),\n",
    "        and previous node value (k - 1) are denoted Z_k. After using activation, nodes\n",
    "        are denoted A_k.\n",
    "        \"\"\"\n",
    "        \n",
    "        params = self.params\n",
    "        params['A0'] = x_train.T\n",
    "        \n",
    "        for i in range(1, self.n_layers + 1):\n",
    "            params[f'Z{i}'] = np.dot(params[f'W{i}'], params[f'A{i - 1}'])\n",
    "            \n",
    "            if self.activations[i - 1] == 'sigmoid':\n",
    "                params[f'A{i}'] = sigmoid(params[f'Z{i}'])\n",
    "            elif self.activations[i - 1] == 'softmax':\n",
    "                params[f'A{i}'] = softmax(params[f'Z{i}'])\n",
    "            else:\n",
    "                params[f'A{i}'] = params[f'Z{i}']\n",
    "        \n",
    "        return params[f'A{self.n_layers}']\n",
    "\n",
    "    def backward_pass(self, y_train, output):\n",
    "        \"\"\"Backward pass of neural network.\"\"\"\n",
    "        \n",
    "        params = self.params\n",
    "        updates = {}\n",
    "        \n",
    "        # starting with last layer\n",
    "        for i in reversed(range(1, self.n_layers + 1)):\n",
    "            # compute error\n",
    "            if i == self.n_layers:\n",
    "                error = (output - y_train)\n",
    "            else:\n",
    "                error = np.dot(params[f'W{i + 1}'].T, error)\n",
    "            \n",
    "            # multiply it by a derivative of activation function\n",
    "            if self.activations[i - 1] == 'sigmoid':\n",
    "                error *= sigmoid(params[f'Z{i}'], derivative=True)\n",
    "            elif self.activations[i - 1] == 'softmax':\n",
    "                error *= softmax(params[f'Z{i}'], derivative=True)\n",
    "\n",
    "            updates[f'W{i}'] = np.dot(error, params[f'A{i-1}'].T) / error.shape[1]\n",
    "\n",
    "        return updates\n",
    "\n",
    "    def update_network_parameters(self, updates):\n",
    "        \"\"\"Update weights with additional regularization..\"\"\"\n",
    "        \n",
    "        for layer, value in updates.items():\n",
    "            self.params[layer] -= self.l_rate * value + 2 * self._lambda * self.params[layer]\n",
    "    \n",
    "    def update_network_parameters_adam(self, updates, t, beta1, beta2, eps):\n",
    "        \"\"\"Update weights using Adam optimizer and, optionally, regularization.\"\"\"\n",
    "        \n",
    "        for layer, value in updates.items():\n",
    "            m = self.mts[layer]\n",
    "            v = self.vts[layer]\n",
    "                \n",
    "            m = beta1 * m + (1 - beta1) * value\n",
    "            mt = m / (1 - beta1 ** t)\n",
    "            v = beta2 * v + (1 - beta2) * (value ** 2)\n",
    "            vt = v / (1 - beta2 ** t)\n",
    "            \n",
    "            self.params[layer] -= (self.l_rate * mt / (np.sqrt(vt) + eps))\n",
    "            self.params[layer] -= 2 * self._lambda * self.params[layer]\n",
    "            self.mts[layer] = m\n",
    "            self.vts[layer] = v\n",
    "    \n",
    "\n",
    "    def compute_accuracy(self, x, y):\n",
    "        \"\"\"Compute accuracy for a given data.\"\"\"\n",
    "        \n",
    "        output = self.forward_pass(x)\n",
    "        predictions = np.argmax(output, axis=0)\n",
    "        y = np.argmax(y, axis=1)\n",
    "        \n",
    "        return np.mean(predictions == y)\n",
    "\n",
    "    def train(self, x_train, y_train, batch_size, epochs=10, l_rate=0.001, _lambda=1e-5,\n",
    "             adam=False, beta1=0.9, beta2=0.999, eps=0.1):\n",
    "        \"\"\"Train neural network.\"\"\"\n",
    "        \n",
    "        self.epochs = epochs\n",
    "        self.l_rate = l_rate\n",
    "        self._lambda = _lambda\n",
    "        \n",
    "        start_time = time.time()\n",
    "        n_batches = x_train.shape[0] // batch_size\n",
    "        history = {'acc': [], 'loss': []}\n",
    "        \n",
    "        for iteration in range(self.epochs):\n",
    "            loss = 0\n",
    "            \n",
    "            # shuffle data differently each iteration\n",
    "            np.random.seed(iteration)\n",
    "            p = np.random.permutation(x_train.shape[0])\n",
    "            x_train = x_train[p, :]\n",
    "            y_train = y_train[p, :]\n",
    "            \n",
    "            # iterate over batches with keras-like parameter drop_last=True\n",
    "            for j in range(0, x_train.shape[0] - batch_size + 1, batch_size):\n",
    "                xs = x_train[j:j + batch_size, :]\n",
    "                ys = y_train[j:j + batch_size, :].T\n",
    "                \n",
    "                output = self.forward_pass(xs)\n",
    "                updates = self.backward_pass(ys, output)\n",
    "                # update weights\n",
    "                if adam:\n",
    "                    self.update_network_parameters_adam(\n",
    "                        updates, iteration + 1, beta1, beta2, eps\n",
    "                    )\n",
    "                else:\n",
    "                    self.update_network_parameters(updates)\n",
    "                \n",
    "                # compute mean cross entropy loss of the whole batch\n",
    "                loss += cross_entropy_loss(output, ys) / batch_size\n",
    "            \n",
    "            loss /= n_batches\n",
    "            # add regularization penalty\n",
    "            loss += self._lambda * np.sum(\n",
    "                [np.sum(np.square(self.params[f'W{i}'])) for i in range(1, self.n_layers + 1)]\n",
    "            )\n",
    "            history['loss'].append(loss)\n",
    "            \n",
    "            accuracy = self.compute_accuracy(x_train, y_train)\n",
    "            history['acc'].append(accuracy)\n",
    "            \n",
    "            if iteration % 10 == 0:\n",
    "                print((\n",
    "                    f'Epoch: {iteration}, Training time: {time.time() - start_time:.2f}s\\n'\n",
    "                    f'Loss: {loss:.5f}, Accuracy: {100 * accuracy:.2f}%'\n",
    "                ))\n",
    "        \n",
    "        return history"
   ]
  },
  {
   "cell_type": "markdown",
   "id": "british-armor",
   "metadata": {},
   "source": [
    "### Shallow networks with linear activation\n",
    "\n",
    "**SGD**"
   ]
  },
  {
   "cell_type": "code",
   "execution_count": 7,
   "id": "current-sudan",
   "metadata": {},
   "outputs": [],
   "source": [
    "n = 785\n",
    "m1 = 128\n",
    "m2 = 64\n",
    "n_classes = 10"
   ]
  },
  {
   "cell_type": "code",
   "execution_count": 8,
   "id": "scheduled-native",
   "metadata": {},
   "outputs": [],
   "source": [
    "np.random.seed(256)"
   ]
  },
  {
   "cell_type": "code",
   "execution_count": 9,
   "id": "solved-surveillance",
   "metadata": {},
   "outputs": [],
   "source": [
    "nn1 = NeuralNetwork()\n",
    "nn1.add_layer(input_size=n, n=m1, activation='linear')\n",
    "nn1.add_layer(n=n_classes, activation='softmax')"
   ]
  },
  {
   "cell_type": "code",
   "execution_count": 10,
   "id": "varied-symphony",
   "metadata": {
    "scrolled": true
   },
   "outputs": [
    {
     "name": "stdout",
     "output_type": "stream",
     "text": [
      "Epoch: 0, Training time: 1.63s\n",
      "Loss: 2.61920, Accuracy: 15.26%\n",
      "Epoch: 10, Training time: 13.82s\n",
      "Loss: 1.42251, Accuracy: 60.14%\n",
      "Epoch: 20, Training time: 25.65s\n",
      "Loss: 0.97178, Accuracy: 72.78%\n",
      "Epoch: 30, Training time: 36.75s\n",
      "Loss: 0.76901, Accuracy: 79.39%\n",
      "Epoch: 40, Training time: 47.87s\n",
      "Loss: 0.66743, Accuracy: 82.52%\n",
      "Epoch: 50, Training time: 59.28s\n",
      "Loss: 0.60766, Accuracy: 84.06%\n",
      "Epoch: 60, Training time: 70.51s\n",
      "Loss: 0.56831, Accuracy: 85.04%\n",
      "Epoch: 70, Training time: 81.92s\n",
      "Loss: 0.54078, Accuracy: 85.83%\n",
      "Epoch: 80, Training time: 93.04s\n",
      "Loss: 0.51975, Accuracy: 86.42%\n",
      "Epoch: 90, Training time: 104.17s\n",
      "Loss: 0.50317, Accuracy: 86.89%\n",
      "Epoch: 100, Training time: 115.30s\n",
      "Loss: 0.48994, Accuracy: 87.28%\n",
      "Epoch: 110, Training time: 126.45s\n",
      "Loss: 0.47947, Accuracy: 87.56%\n",
      "Epoch: 120, Training time: 137.53s\n",
      "Loss: 0.47005, Accuracy: 87.79%\n",
      "Epoch: 130, Training time: 148.65s\n",
      "Loss: 0.46253, Accuracy: 88.02%\n",
      "Epoch: 140, Training time: 159.70s\n",
      "Loss: 0.45535, Accuracy: 88.20%\n"
     ]
    }
   ],
   "source": [
    "history1 = nn1.train(\n",
    "        x_train, \n",
    "        y_train,\n",
    "        batch_size=1024, \n",
    "        l_rate=0.01,\n",
    "        _lambda=0.00001,\n",
    "        epochs=150,\n",
    ")"
   ]
  },
  {
   "cell_type": "code",
   "execution_count": 11,
   "id": "mounted-founder",
   "metadata": {},
   "outputs": [
    {
     "data": {
      "image/png": "[encoded data removed]",
      "text/plain": [
       "<Figure size 864x288 with 2 Axes>"
      ]
     },
     "metadata": {
      "needs_background": "light"
     },
     "output_type": "display_data"
    }
   ],
   "source": [
    "fig, (ax1, ax2) = plt.subplots(1, 2, figsize=(12, 4))\n",
    "\n",
    "ax1.plot(history1['acc'], c='deepskyblue', lw=2)\n",
    "ax1.set_title('Accuracy')\n",
    "ax2.plot(history1['loss'], c='orchid', lw=2)\n",
    "ax2.set_title('Loss')\n",
    "plt.show()"
   ]
  },
  {
   "cell_type": "code",
   "execution_count": 12,
   "id": "alone-prize",
   "metadata": {},
   "outputs": [
    {
     "name": "stdout",
     "output_type": "stream",
     "text": [
      "Accuracy for train set: 0.88390\n"
     ]
    }
   ],
   "source": [
    "y_pred = nn1.forward_pass(x_train)\n",
    "y_pred = np.argmax(y_pred, axis=0).reshape(-1, 1)\n",
    "y = np.argmax(y_train, axis=1).reshape(-1, 1)\n",
    "print(f'Accuracy for train set: {accuracy_score(y, y_pred):.5f}')"
   ]
  },
  {
   "cell_type": "code",
   "execution_count": 13,
   "id": "young-master",
   "metadata": {},
   "outputs": [
    {
     "name": "stdout",
     "output_type": "stream",
     "text": [
      "Accuracy for test set: 0.89030\n"
     ]
    }
   ],
   "source": [
    "y_pred = nn1.forward_pass(x_test)\n",
    "y_pred = np.argmax(y_pred, axis=0).reshape(-1, 1)\n",
    "y = np.argmax(y_test, axis=1).reshape(-1, 1)\n",
    "print(f'Accuracy for test set: {accuracy_score(y, y_pred):.5f}')"
   ]
  },
  {
   "cell_type": "markdown",
   "id": "utility-wells",
   "metadata": {},
   "source": [
    "**Adam**"
   ]
  },
  {
   "cell_type": "code",
   "execution_count": 14,
   "id": "specific-thunder",
   "metadata": {},
   "outputs": [],
   "source": [
    "np.random.seed(256)\n",
    "\n",
    "nn2 = NeuralNetwork()\n",
    "nn2.add_layer(input_size=n, n=m1, activation='linear')\n",
    "nn2.add_layer(n=n_classes, activation='softmax')"
   ]
  },
  {
   "cell_type": "code",
   "execution_count": 15,
   "id": "violent-contractor",
   "metadata": {
    "scrolled": false
   },
   "outputs": [
    {
     "name": "stdout",
     "output_type": "stream",
     "text": [
      "Epoch: 0, Training time: 1.73s\n",
      "Loss: 1.22714, Accuracy: 80.45%\n",
      "Epoch: 10, Training time: 18.61s\n",
      "Loss: 0.43572, Accuracy: 89.17%\n",
      "Epoch: 20, Training time: 35.26s\n",
      "Loss: 0.38696, Accuracy: 90.45%\n",
      "Epoch: 30, Training time: 51.86s\n",
      "Loss: 0.36178, Accuracy: 91.03%\n",
      "Epoch: 40, Training time: 68.55s\n",
      "Loss: 0.34607, Accuracy: 91.49%\n",
      "Epoch: 50, Training time: 85.25s\n",
      "Loss: 0.33566, Accuracy: 91.76%\n",
      "Epoch: 60, Training time: 101.99s\n",
      "Loss: 0.32831, Accuracy: 92.00%\n",
      "Epoch: 70, Training time: 118.70s\n",
      "Loss: 0.32416, Accuracy: 92.18%\n",
      "Epoch: 80, Training time: 137.09s\n",
      "Loss: 0.32122, Accuracy: 92.26%\n",
      "Epoch: 90, Training time: 153.92s\n",
      "Loss: 0.31976, Accuracy: 92.40%\n"
     ]
    }
   ],
   "source": [
    "history2 = nn2.train(\n",
    "        x_train,\n",
    "        y_train,\n",
    "        batch_size=256, \n",
    "        l_rate=0.0001,\n",
    "        _lambda=0.00001,\n",
    "        epochs=100,\n",
    "        adam=True,\n",
    "        beta1=0.9, \n",
    "        beta2=0.999, \n",
    "        eps=1e-8,\n",
    ")"
   ]
  },
  {
   "cell_type": "code",
   "execution_count": 16,
   "id": "arabic-medline",
   "metadata": {},
   "outputs": [
    {
     "data": {
      "image/png": "[encoded data removed]",
      "text/plain": [
       "<Figure size 864x288 with 2 Axes>"
      ]
     },
     "metadata": {
      "needs_background": "light"
     },
     "output_type": "display_data"
    }
   ],
   "source": [
    "fig, (ax1, ax2) = plt.subplots(1, 2, figsize=(12, 4))\n",
    "\n",
    "ax1.plot(history2['acc'], c='royalblue', lw=2)\n",
    "ax1.set_title('Accuracy')\n",
    "ax2.plot(history2['loss'], c='rebeccapurple', lw=2)\n",
    "ax2.set_title('Loss')\n",
    "plt.show()"
   ]
  },
  {
   "cell_type": "code",
   "execution_count": 17,
   "id": "plain-married",
   "metadata": {},
   "outputs": [
    {
     "name": "stdout",
     "output_type": "stream",
     "text": [
      "Accuracy for train set: 0.92450\n"
     ]
    }
   ],
   "source": [
    "y_pred = nn2.forward_pass(x_train)\n",
    "y_pred = np.argmax(y_pred, axis=0).reshape(-1, 1)\n",
    "y = np.argmax(y_train, axis=1).reshape(-1, 1)\n",
    "print(f'Accuracy for train set: {accuracy_score(y, y_pred):.5f}')"
   ]
  },
  {
   "cell_type": "code",
   "execution_count": 18,
   "id": "bearing-energy",
   "metadata": {},
   "outputs": [
    {
     "name": "stdout",
     "output_type": "stream",
     "text": [
      "Accuracy for test set: 0.92360\n"
     ]
    }
   ],
   "source": [
    "y_pred = nn2.forward_pass(x_test)\n",
    "y_pred = np.argmax(y_pred, axis=0).reshape(-1, 1)\n",
    "y = np.argmax(y_test, axis=1).reshape(-1, 1)\n",
    "print(f'Accuracy for test set: {accuracy_score(y, y_pred):.5f}')"
   ]
  },
  {
   "cell_type": "markdown",
   "id": "diagnostic-exhibition",
   "metadata": {},
   "source": [
    "### Shallow networks with sigmoid activation\n",
    "\n",
    "**SGD**"
   ]
  },
  {
   "cell_type": "code",
   "execution_count": 19,
   "id": "lasting-payment",
   "metadata": {},
   "outputs": [],
   "source": [
    "np.random.seed(256)\n",
    "nn3 = NeuralNetwork()\n",
    "nn3.add_layer(input_size=n, n=m1, activation='sigmoid')\n",
    "nn3.add_layer(n=n_classes, activation='softmax')"
   ]
  },
  {
   "cell_type": "code",
   "execution_count": 20,
   "id": "sustainable-guard",
   "metadata": {
    "scrolled": true
   },
   "outputs": [
    {
     "name": "stdout",
     "output_type": "stream",
     "text": [
      "Epoch: 0, Training time: 2.55s\n",
      "Loss: 2.03874, Accuracy: 55.04%\n",
      "Epoch: 10, Training time: 28.09s\n",
      "Loss: 4.94148, Accuracy: 74.72%\n",
      "Epoch: 20, Training time: 52.89s\n",
      "Loss: 4.84894, Accuracy: 78.67%\n",
      "Epoch: 30, Training time: 77.70s\n",
      "Loss: 2.82821, Accuracy: 79.81%\n",
      "Epoch: 40, Training time: 102.83s\n",
      "Loss: 2.21454, Accuracy: 80.86%\n",
      "Epoch: 50, Training time: 129.41s\n",
      "Loss: 2.07529, Accuracy: 81.33%\n",
      "Epoch: 60, Training time: 154.77s\n",
      "Loss: 2.00020, Accuracy: 81.64%\n",
      "Epoch: 70, Training time: 179.88s\n",
      "Loss: 1.95261, Accuracy: 81.74%\n",
      "Epoch: 80, Training time: 205.15s\n",
      "Loss: 1.92741, Accuracy: 81.86%\n",
      "Epoch: 90, Training time: 230.19s\n",
      "Loss: 1.90676, Accuracy: 81.93%\n",
      "Epoch: 100, Training time: 258.11s\n",
      "Loss: 1.89009, Accuracy: 82.14%\n",
      "Epoch: 110, Training time: 285.71s\n",
      "Loss: 1.88723, Accuracy: 82.16%\n",
      "Epoch: 120, Training time: 313.12s\n",
      "Loss: 1.87180, Accuracy: 82.20%\n",
      "Epoch: 130, Training time: 342.31s\n",
      "Loss: 1.88205, Accuracy: 82.27%\n",
      "Epoch: 140, Training time: 369.12s\n",
      "Loss: 1.87416, Accuracy: 82.41%\n"
     ]
    }
   ],
   "source": [
    "history3 = nn3.train(\n",
    "        x_train, \n",
    "        y_train,\n",
    "        batch_size=128,\n",
    "        l_rate=0.1,\n",
    "        _lambda=0.00001,\n",
    "        epochs=150,\n",
    ")"
   ]
  },
  {
   "cell_type": "code",
   "execution_count": 21,
   "id": "addressed-administration",
   "metadata": {},
   "outputs": [
    {
     "data": {
      "image/png": "[encoded data removed]",
      "text/plain": [
       "<Figure size 864x288 with 2 Axes>"
      ]
     },
     "metadata": {
      "needs_background": "light"
     },
     "output_type": "display_data"
    }
   ],
   "source": [
    "fig, (ax1, ax2) = plt.subplots(1, 2, figsize=(12, 4))\n",
    "\n",
    "ax1.plot(history3['acc'], c='deepskyblue', lw=2)\n",
    "ax1.set_title('Accuracy')\n",
    "ax2.plot(history3['loss'], c='orchid', lw=2)\n",
    "ax2.set_title('Loss')\n",
    "plt.show()"
   ]
  },
  {
   "cell_type": "code",
   "execution_count": 22,
   "id": "resident-rotation",
   "metadata": {},
   "outputs": [
    {
     "name": "stdout",
     "output_type": "stream",
     "text": [
      "Accuracy for train set: 0.82415\n"
     ]
    }
   ],
   "source": [
    "y_pred = nn3.forward_pass(x_train)\n",
    "y_pred = np.argmax(y_pred, axis=0).reshape(-1, 1)\n",
    "y = np.argmax(y_train, axis=1).reshape(-1, 1)\n",
    "print(f'Accuracy for train set: {accuracy_score(y, y_pred):.5f}')"
   ]
  },
  {
   "cell_type": "code",
   "execution_count": 23,
   "id": "assigned-attachment",
   "metadata": {},
   "outputs": [
    {
     "name": "stdout",
     "output_type": "stream",
     "text": [
      "Accuracy for test set: 0.82520\n"
     ]
    }
   ],
   "source": [
    "y_pred = nn3.forward_pass(x_test)\n",
    "y_pred = np.argmax(y_pred, axis=0).reshape(-1, 1)\n",
    "y = np.argmax(y_test, axis=1).reshape(-1, 1)\n",
    "print(f'Accuracy for test set: {accuracy_score(y, y_pred):.5f}')"
   ]
  },
  {
   "cell_type": "markdown",
   "id": "tracked-conjunction",
   "metadata": {},
   "source": [
    "**Adam**"
   ]
  },
  {
   "cell_type": "code",
   "execution_count": 24,
   "id": "through-girlfriend",
   "metadata": {},
   "outputs": [],
   "source": [
    "np.random.seed(256)\n",
    "\n",
    "nn4 = NeuralNetwork()\n",
    "nn4.add_layer(input_size=n, n=m1, activation='sigmoid')\n",
    "nn4.add_layer(n=n_classes, activation='softmax')"
   ]
  },
  {
   "cell_type": "code",
   "execution_count": 25,
   "id": "technical-joint",
   "metadata": {
    "scrolled": true
   },
   "outputs": [
    {
     "name": "stdout",
     "output_type": "stream",
     "text": [
      "Epoch: 0, Training time: 2.96s\n",
      "Loss: 1.88991, Accuracy: 63.62%\n",
      "Epoch: 10, Training time: 32.10s\n",
      "Loss: 1.20605, Accuracy: 78.82%\n",
      "Epoch: 20, Training time: 61.54s\n",
      "Loss: 1.20142, Accuracy: 80.72%\n",
      "Epoch: 30, Training time: 90.69s\n",
      "Loss: 1.23439, Accuracy: 81.62%\n",
      "Epoch: 40, Training time: 119.79s\n",
      "Loss: 1.24346, Accuracy: 81.33%\n",
      "Epoch: 50, Training time: 148.91s\n",
      "Loss: 1.21027, Accuracy: 81.55%\n",
      "Epoch: 60, Training time: 178.21s\n",
      "Loss: 1.15110, Accuracy: 82.47%\n",
      "Epoch: 70, Training time: 207.63s\n",
      "Loss: 1.06930, Accuracy: 85.05%\n",
      "Epoch: 80, Training time: 236.95s\n",
      "Loss: 0.99199, Accuracy: 87.10%\n",
      "Epoch: 90, Training time: 266.08s\n",
      "Loss: 0.92513, Accuracy: 87.94%\n",
      "Epoch: 100, Training time: 295.36s\n",
      "Loss: 0.87485, Accuracy: 88.56%\n",
      "Epoch: 110, Training time: 324.57s\n",
      "Loss: 0.83963, Accuracy: 88.92%\n",
      "Epoch: 120, Training time: 353.59s\n",
      "Loss: 0.80172, Accuracy: 89.22%\n",
      "Epoch: 130, Training time: 382.64s\n",
      "Loss: 0.77063, Accuracy: 89.49%\n",
      "Epoch: 140, Training time: 412.00s\n",
      "Loss: 0.74036, Accuracy: 89.66%\n",
      "Epoch: 150, Training time: 441.05s\n",
      "Loss: 0.71710, Accuracy: 89.78%\n",
      "Epoch: 160, Training time: 470.11s\n",
      "Loss: 0.69709, Accuracy: 89.95%\n",
      "Epoch: 170, Training time: 499.17s\n",
      "Loss: 0.68414, Accuracy: 90.02%\n",
      "Epoch: 180, Training time: 528.64s\n",
      "Loss: 0.67824, Accuracy: 90.14%\n",
      "Epoch: 190, Training time: 557.70s\n",
      "Loss: 0.68594, Accuracy: 90.22%\n",
      "Epoch: 200, Training time: 587.61s\n",
      "Loss: 0.68824, Accuracy: 90.24%\n",
      "Epoch: 210, Training time: 615.58s\n",
      "Loss: 0.69049, Accuracy: 90.32%\n",
      "Epoch: 220, Training time: 643.63s\n",
      "Loss: 0.70169, Accuracy: 90.39%\n",
      "Epoch: 230, Training time: 671.92s\n",
      "Loss: 0.69104, Accuracy: 90.42%\n",
      "Epoch: 240, Training time: 699.93s\n",
      "Loss: 0.67634, Accuracy: 90.43%\n",
      "Epoch: 250, Training time: 728.01s\n",
      "Loss: 0.66777, Accuracy: 90.54%\n",
      "Epoch: 260, Training time: 755.98s\n",
      "Loss: 0.66645, Accuracy: 90.68%\n",
      "Epoch: 270, Training time: 784.07s\n",
      "Loss: 0.66223, Accuracy: 90.70%\n",
      "Epoch: 280, Training time: 812.16s\n",
      "Loss: 0.65168, Accuracy: 90.79%\n",
      "Epoch: 290, Training time: 840.35s\n",
      "Loss: 0.64310, Accuracy: 90.84%\n",
      "Epoch: 300, Training time: 868.44s\n",
      "Loss: 0.63728, Accuracy: 90.93%\n",
      "Epoch: 310, Training time: 896.99s\n",
      "Loss: 0.63377, Accuracy: 90.93%\n",
      "Epoch: 320, Training time: 926.77s\n",
      "Loss: 0.63032, Accuracy: 90.94%\n",
      "Epoch: 330, Training time: 955.06s\n",
      "Loss: 0.62786, Accuracy: 91.00%\n",
      "Epoch: 340, Training time: 983.31s\n",
      "Loss: 0.62587, Accuracy: 91.06%\n"
     ]
    }
   ],
   "source": [
    "history4 = nn4.train(\n",
    "        x_train,\n",
    "        y_train,\n",
    "        batch_size=256, \n",
    "        l_rate=0.0001,\n",
    "        _lambda=0.00001,\n",
    "        epochs=350,\n",
    "        adam=True,\n",
    "        beta1=0.9, \n",
    "        beta2=0.999, \n",
    "        eps=1e-8,\n",
    ")"
   ]
  },
  {
   "cell_type": "code",
   "execution_count": 26,
   "id": "plain-deficit",
   "metadata": {},
   "outputs": [
    {
     "data": {
      "image/png": "[encoded data removed]",
      "text/plain": [
       "<Figure size 864x288 with 2 Axes>"
      ]
     },
     "metadata": {
      "needs_background": "light"
     },
     "output_type": "display_data"
    }
   ],
   "source": [
    "fig, (ax1, ax2) = plt.subplots(1, 2, figsize=(12, 4))\n",
    "\n",
    "ax1.plot(history4['acc'], c='royalblue', lw=2)\n",
    "ax1.set_title('Accuracy')\n",
    "ax2.plot(history4['loss'], c='rebeccapurple', lw=2)\n",
    "ax2.set_title('Loss')\n",
    "plt.show()"
   ]
  },
  {
   "cell_type": "code",
   "execution_count": 27,
   "id": "thrown-groove",
   "metadata": {},
   "outputs": [
    {
     "name": "stdout",
     "output_type": "stream",
     "text": [
      "Accuracy for train set: 0.91085\n"
     ]
    }
   ],
   "source": [
    "y_pred = nn4.forward_pass(x_train)\n",
    "y_pred = np.argmax(y_pred, axis=0).reshape(-1, 1)\n",
    "y = np.argmax(y_train, axis=1).reshape(-1, 1)\n",
    "print(f'Accuracy for train set: {accuracy_score(y, y_pred):.5f}')"
   ]
  },
  {
   "cell_type": "code",
   "execution_count": 28,
   "id": "starting-certification",
   "metadata": {},
   "outputs": [
    {
     "name": "stdout",
     "output_type": "stream",
     "text": [
      "Accuracy for test set: 0.91210\n"
     ]
    }
   ],
   "source": [
    "y_pred = nn4.forward_pass(x_test)\n",
    "y_pred = np.argmax(y_pred, axis=0).reshape(-1, 1)\n",
    "y = np.argmax(y_test, axis=1).reshape(-1, 1)\n",
    "print(f'Accuracy for test set: {accuracy_score(y, y_pred):.5f}')"
   ]
  },
  {
   "cell_type": "markdown",
   "id": "progressive-current",
   "metadata": {},
   "source": [
    "### Two-layered networks with linear activation\n",
    "\n",
    "**SGD**"
   ]
  },
  {
   "cell_type": "code",
   "execution_count": 67,
   "id": "living-ratio",
   "metadata": {},
   "outputs": [],
   "source": [
    "np.random.seed(256)\n",
    "\n",
    "nn5 = NeuralNetwork()\n",
    "nn5.add_layer(input_size=n, n=m1, activation='linear')\n",
    "nn5.add_layer(n=m2, activation='linear')\n",
    "nn5.add_layer(n=n_classes, activation='softmax')"
   ]
  },
  {
   "cell_type": "code",
   "execution_count": 68,
   "id": "charming-theorem",
   "metadata": {
    "scrolled": true
   },
   "outputs": [
    {
     "name": "stdout",
     "output_type": "stream",
     "text": [
      "Epoch: 0, Training time: 1.23s\n",
      "Loss: 2.76780, Accuracy: 9.30%\n",
      "Epoch: 10, Training time: 13.49s\n",
      "Loss: 2.37447, Accuracy: 20.10%\n",
      "Epoch: 20, Training time: 25.61s\n",
      "Loss: 2.09914, Accuracy: 35.43%\n",
      "Epoch: 30, Training time: 37.79s\n",
      "Loss: 1.89071, Accuracy: 44.04%\n",
      "Epoch: 40, Training time: 50.29s\n",
      "Loss: 1.72848, Accuracy: 51.26%\n",
      "Epoch: 50, Training time: 62.44s\n",
      "Loss: 1.59755, Accuracy: 57.34%\n",
      "Epoch: 60, Training time: 74.58s\n",
      "Loss: 1.48930, Accuracy: 61.84%\n",
      "Epoch: 70, Training time: 86.71s\n",
      "Loss: 1.39788, Accuracy: 64.94%\n",
      "Epoch: 80, Training time: 98.87s\n",
      "Loss: 1.32050, Accuracy: 67.02%\n",
      "Epoch: 90, Training time: 111.03s\n",
      "Loss: 1.25345, Accuracy: 68.88%\n",
      "Epoch: 100, Training time: 123.18s\n",
      "Loss: 1.19334, Accuracy: 70.56%\n",
      "Epoch: 110, Training time: 135.37s\n",
      "Loss: 1.13841, Accuracy: 72.47%\n",
      "Epoch: 120, Training time: 147.53s\n",
      "Loss: 1.08831, Accuracy: 74.78%\n",
      "Epoch: 130, Training time: 159.80s\n",
      "Loss: 1.04681, Accuracy: 76.57%\n",
      "Epoch: 140, Training time: 172.07s\n",
      "Loss: 1.01376, Accuracy: 77.49%\n",
      "Epoch: 150, Training time: 184.25s\n",
      "Loss: 0.98555, Accuracy: 78.18%\n",
      "Epoch: 160, Training time: 196.39s\n",
      "Loss: 0.96100, Accuracy: 78.72%\n",
      "Epoch: 170, Training time: 208.49s\n",
      "Loss: 0.93889, Accuracy: 79.10%\n",
      "Epoch: 180, Training time: 220.63s\n",
      "Loss: 0.91772, Accuracy: 79.47%\n",
      "Epoch: 190, Training time: 232.77s\n",
      "Loss: 0.89981, Accuracy: 79.86%\n"
     ]
    }
   ],
   "source": [
    "history5 = nn5.train(\n",
    "        x_train, \n",
    "        y_train,\n",
    "        batch_size=512, \n",
    "        l_rate=0.001,\n",
    "        _lambda=0.00001,\n",
    "        epochs=200,\n",
    ")"
   ]
  },
  {
   "cell_type": "code",
   "execution_count": 69,
   "id": "technological-ladder",
   "metadata": {},
   "outputs": [
    {
     "data": {
      "image/png": "[encoded data removed]",
      "text/plain": [
       "<Figure size 864x288 with 2 Axes>"
      ]
     },
     "metadata": {
      "needs_background": "light"
     },
     "output_type": "display_data"
    }
   ],
   "source": [
    "fig, (ax1, ax2) = plt.subplots(1, 2, figsize=(12, 4))\n",
    "\n",
    "ax1.plot(history5['acc'], c='deepskyblue', lw=2)\n",
    "ax1.set_title('Accuracy')\n",
    "ax2.plot(history5['loss'], c='orchid', lw=2)\n",
    "ax2.set_title('Loss')\n",
    "plt.show()"
   ]
  },
  {
   "cell_type": "code",
   "execution_count": 70,
   "id": "particular-peter",
   "metadata": {},
   "outputs": [
    {
     "name": "stdout",
     "output_type": "stream",
     "text": [
      "Accuracy for train set: 0.79887\n"
     ]
    }
   ],
   "source": [
    "y_pred = nn5.forward_pass(x_train)\n",
    "y_pred = np.argmax(y_pred, axis=0).reshape(-1, 1)\n",
    "y = np.argmax(y_train, axis=1).reshape(-1, 1)\n",
    "print(f'Accuracy for train set: {accuracy_score(y, y_pred):.5f}')"
   ]
  },
  {
   "cell_type": "code",
   "execution_count": 71,
   "id": "damaged-winner",
   "metadata": {},
   "outputs": [
    {
     "name": "stdout",
     "output_type": "stream",
     "text": [
      "Accuracy for test set: 0.80270\n"
     ]
    }
   ],
   "source": [
    "y_pred = nn5.forward_pass(x_test)\n",
    "y_pred = np.argmax(y_pred, axis=0).reshape(-1, 1)\n",
    "y = np.argmax(y_test, axis=1).reshape(-1, 1)\n",
    "print(f'Accuracy for test set: {accuracy_score(y, y_pred):.5f}')"
   ]
  },
  {
   "cell_type": "markdown",
   "id": "intense-headline",
   "metadata": {},
   "source": [
    "**Adam**"
   ]
  },
  {
   "cell_type": "code",
   "execution_count": 40,
   "id": "operational-queue",
   "metadata": {},
   "outputs": [],
   "source": [
    "np.random.seed(256)\n",
    "\n",
    "nn6 = NeuralNetwork()\n",
    "nn6.add_layer(input_size=n, n=m1, activation='linear')\n",
    "nn6.add_layer(n=m2, activation='linear')\n",
    "nn6.add_layer(n=n_classes, activation='softmax')"
   ]
  },
  {
   "cell_type": "code",
   "execution_count": 41,
   "id": "enhanced-commitment",
   "metadata": {
    "scrolled": true
   },
   "outputs": [
    {
     "name": "stdout",
     "output_type": "stream",
     "text": [
      "Epoch: 0, Training time: 1.86s\n",
      "Loss: 2.43191, Accuracy: 28.42%\n",
      "Epoch: 10, Training time: 20.06s\n",
      "Loss: 1.46801, Accuracy: 60.69%\n",
      "Epoch: 20, Training time: 38.34s\n",
      "Loss: 1.14002, Accuracy: 70.47%\n",
      "Epoch: 30, Training time: 56.51s\n",
      "Loss: 0.92503, Accuracy: 76.62%\n",
      "Epoch: 40, Training time: 75.00s\n",
      "Loss: 0.78186, Accuracy: 80.09%\n",
      "Epoch: 50, Training time: 93.28s\n",
      "Loss: 0.68216, Accuracy: 82.49%\n",
      "Epoch: 60, Training time: 111.46s\n",
      "Loss: 0.61166, Accuracy: 84.34%\n",
      "Epoch: 70, Training time: 129.75s\n",
      "Loss: 0.56061, Accuracy: 85.66%\n",
      "Epoch: 80, Training time: 147.96s\n",
      "Loss: 0.52231, Accuracy: 86.67%\n",
      "Epoch: 90, Training time: 166.12s\n",
      "Loss: 0.49218, Accuracy: 87.41%\n",
      "Epoch: 100, Training time: 184.71s\n",
      "Loss: 0.46931, Accuracy: 88.02%\n",
      "Epoch: 110, Training time: 203.11s\n",
      "Loss: 0.45089, Accuracy: 88.46%\n",
      "Epoch: 120, Training time: 221.30s\n",
      "Loss: 0.43663, Accuracy: 88.81%\n",
      "Epoch: 130, Training time: 239.54s\n",
      "Loss: 0.42560, Accuracy: 89.09%\n",
      "Epoch: 140, Training time: 257.75s\n",
      "Loss: 0.41694, Accuracy: 89.32%\n",
      "Epoch: 150, Training time: 275.94s\n",
      "Loss: 0.40972, Accuracy: 89.48%\n",
      "Epoch: 160, Training time: 294.11s\n",
      "Loss: 0.40421, Accuracy: 89.64%\n",
      "Epoch: 170, Training time: 312.48s\n",
      "Loss: 0.40076, Accuracy: 89.77%\n",
      "Epoch: 180, Training time: 330.72s\n",
      "Loss: 0.39737, Accuracy: 89.89%\n",
      "Epoch: 190, Training time: 348.95s\n",
      "Loss: 0.39497, Accuracy: 89.93%\n",
      "Epoch: 200, Training time: 367.58s\n",
      "Loss: 0.39362, Accuracy: 89.95%\n",
      "Epoch: 210, Training time: 388.19s\n",
      "Loss: 0.39283, Accuracy: 90.02%\n",
      "Epoch: 220, Training time: 408.32s\n",
      "Loss: 0.39291, Accuracy: 90.09%\n",
      "Epoch: 230, Training time: 427.46s\n",
      "Loss: 0.39333, Accuracy: 90.25%\n",
      "Epoch: 240, Training time: 446.34s\n",
      "Loss: 0.39447, Accuracy: 90.29%\n",
      "Epoch: 250, Training time: 465.26s\n",
      "Loss: 0.39554, Accuracy: 90.27%\n",
      "Epoch: 260, Training time: 484.21s\n",
      "Loss: 0.39707, Accuracy: 90.19%\n",
      "Epoch: 270, Training time: 503.06s\n",
      "Loss: 0.39933, Accuracy: 90.10%\n",
      "Epoch: 280, Training time: 521.92s\n",
      "Loss: 0.40204, Accuracy: 90.25%\n",
      "Epoch: 290, Training time: 540.98s\n",
      "Loss: 0.40465, Accuracy: 90.28%\n"
     ]
    }
   ],
   "source": [
    "history6 = nn6.train(\n",
    "        x_train,\n",
    "        y_train,\n",
    "        batch_size=256, \n",
    "        l_rate=0.00001,\n",
    "        _lambda=0.000001,\n",
    "        epochs=300,\n",
    "        adam=True,\n",
    "        beta1=0.9, \n",
    "        beta2=0.999, \n",
    "        eps=1e-8,\n",
    ")"
   ]
  },
  {
   "cell_type": "code",
   "execution_count": 42,
   "id": "julian-shopper",
   "metadata": {},
   "outputs": [
    {
     "data": {
      "image/png": "[encoded data removed]",
      "text/plain": [
       "<Figure size 864x288 with 2 Axes>"
      ]
     },
     "metadata": {
      "needs_background": "light"
     },
     "output_type": "display_data"
    }
   ],
   "source": [
    "fig, (ax1, ax2) = plt.subplots(1, 2, figsize=(12, 4))\n",
    "\n",
    "ax1.plot(history6['acc'], c='royalblue', lw=2)\n",
    "ax1.set_title('Accuracy')\n",
    "ax2.plot(history6['loss'], c='rebeccapurple', lw=2)\n",
    "ax2.set_title('Loss')\n",
    "plt.show()"
   ]
  },
  {
   "cell_type": "code",
   "execution_count": 43,
   "id": "functional-exhibition",
   "metadata": {},
   "outputs": [
    {
     "name": "stdout",
     "output_type": "stream",
     "text": [
      "Accuracy for train set: 0.90267\n"
     ]
    }
   ],
   "source": [
    "y_pred = nn6.forward_pass(x_train)\n",
    "y_pred = np.argmax(y_pred, axis=0).reshape(-1, 1)\n",
    "y = np.argmax(y_train, axis=1).reshape(-1, 1)\n",
    "print(f'Accuracy for train set: {accuracy_score(y, y_pred):.5f}')"
   ]
  },
  {
   "cell_type": "code",
   "execution_count": 44,
   "id": "continuous-sitting",
   "metadata": {},
   "outputs": [
    {
     "name": "stdout",
     "output_type": "stream",
     "text": [
      "Accuracy for test set: 0.90630\n"
     ]
    }
   ],
   "source": [
    "y_pred = nn6.forward_pass(x_test)\n",
    "y_pred = np.argmax(y_pred, axis=0).reshape(-1, 1)\n",
    "y = np.argmax(y_test, axis=1).reshape(-1, 1)\n",
    "print(f'Accuracy for test set: {accuracy_score(y, y_pred):.5f}')"
   ]
  },
  {
   "cell_type": "markdown",
   "id": "introductory-cruise",
   "metadata": {},
   "source": [
    "### Two-layered networks with sigmoid activation\n",
    "\n",
    "**SGD**"
   ]
  },
  {
   "cell_type": "code",
   "execution_count": 60,
   "id": "hydraulic-algebra",
   "metadata": {},
   "outputs": [],
   "source": [
    "np.random.seed(256)\n",
    "\n",
    "nn7 = NeuralNetwork()\n",
    "nn7.add_layer(input_size=n, n=m1, activation='sigmoid')\n",
    "nn7.add_layer(n=m2, activation='sigmoid')\n",
    "nn7.add_layer(n=n_classes, activation='softmax')"
   ]
  },
  {
   "cell_type": "code",
   "execution_count": 61,
   "id": "liable-bahamas",
   "metadata": {
    "scrolled": true
   },
   "outputs": [
    {
     "name": "stdout",
     "output_type": "stream",
     "text": [
      "Epoch: 0, Training time: 3.17s\n",
      "Loss: 2.32683, Accuracy: 11.67%\n",
      "Epoch: 10, Training time: 34.54s\n",
      "Loss: 2.03811, Accuracy: 27.81%\n",
      "Epoch: 20, Training time: 68.71s\n",
      "Loss: 1.75212, Accuracy: 40.70%\n",
      "Epoch: 30, Training time: 99.52s\n",
      "Loss: 1.57940, Accuracy: 45.17%\n",
      "Epoch: 40, Training time: 130.56s\n",
      "Loss: 1.43642, Accuracy: 53.32%\n",
      "Epoch: 50, Training time: 161.68s\n",
      "Loss: 1.34510, Accuracy: 60.81%\n",
      "Epoch: 60, Training time: 192.47s\n",
      "Loss: 1.26453, Accuracy: 64.68%\n",
      "Epoch: 70, Training time: 223.28s\n",
      "Loss: 1.20444, Accuracy: 68.84%\n",
      "Epoch: 80, Training time: 254.29s\n",
      "Loss: 1.16728, Accuracy: 67.36%\n",
      "Epoch: 90, Training time: 285.12s\n",
      "Loss: 1.14092, Accuracy: 71.04%\n",
      "Epoch: 100, Training time: 315.96s\n",
      "Loss: 1.11273, Accuracy: 74.02%\n",
      "Epoch: 110, Training time: 346.81s\n",
      "Loss: 1.08244, Accuracy: 74.27%\n",
      "Epoch: 120, Training time: 378.11s\n",
      "Loss: 1.05137, Accuracy: 74.84%\n",
      "Epoch: 130, Training time: 408.89s\n",
      "Loss: 1.02353, Accuracy: 76.14%\n",
      "Epoch: 140, Training time: 439.80s\n",
      "Loss: 1.00048, Accuracy: 76.27%\n",
      "Epoch: 150, Training time: 470.66s\n",
      "Loss: 0.98237, Accuracy: 77.16%\n",
      "Epoch: 160, Training time: 501.77s\n",
      "Loss: 0.96761, Accuracy: 77.74%\n",
      "Epoch: 170, Training time: 532.62s\n",
      "Loss: 0.95647, Accuracy: 77.36%\n",
      "Epoch: 180, Training time: 563.47s\n",
      "Loss: 0.94757, Accuracy: 77.67%\n",
      "Epoch: 190, Training time: 594.27s\n",
      "Loss: 0.94202, Accuracy: 77.35%\n"
     ]
    }
   ],
   "source": [
    "history7 = nn7.train(\n",
    "        x_train, \n",
    "        y_train,\n",
    "        batch_size=256,\n",
    "        l_rate=0.1,\n",
    "        _lambda=0.00001,\n",
    "        epochs=200,\n",
    ")"
   ]
  },
  {
   "cell_type": "code",
   "execution_count": 62,
   "id": "qualified-proceeding",
   "metadata": {},
   "outputs": [
    {
     "data": {
      "image/png": "[encoded data removed]",
      "text/plain": [
       "<Figure size 864x288 with 2 Axes>"
      ]
     },
     "metadata": {
      "needs_background": "light"
     },
     "output_type": "display_data"
    }
   ],
   "source": [
    "fig, (ax1, ax2) = plt.subplots(1, 2, figsize=(12, 4))\n",
    "\n",
    "ax1.plot(history7['acc'], c='deepskyblue', lw=2)\n",
    "ax1.set_title('Accuracy')\n",
    "ax2.plot(history7['loss'], c='orchid', lw=2)\n",
    "ax2.set_title('Loss')\n",
    "plt.show()"
   ]
  },
  {
   "cell_type": "code",
   "execution_count": 63,
   "id": "latter-scoop",
   "metadata": {},
   "outputs": [
    {
     "name": "stdout",
     "output_type": "stream",
     "text": [
      "Accuracy for train set: 0.80513\n"
     ]
    }
   ],
   "source": [
    "y_pred = nn7.forward_pass(x_train)\n",
    "y_pred = np.argmax(y_pred, axis=0).reshape(-1, 1)\n",
    "y = np.argmax(y_train, axis=1).reshape(-1, 1)\n",
    "print(f'Accuracy for train set: {accuracy_score(y, y_pred):.5f}')"
   ]
  },
  {
   "cell_type": "code",
   "execution_count": 64,
   "id": "restricted-booth",
   "metadata": {},
   "outputs": [
    {
     "name": "stdout",
     "output_type": "stream",
     "text": [
      "Accuracy for test set: 0.80710\n"
     ]
    }
   ],
   "source": [
    "y_pred = nn7.forward_pass(x_test)\n",
    "y_pred = np.argmax(y_pred, axis=0).reshape(-1, 1)\n",
    "y = np.argmax(y_test, axis=1).reshape(-1, 1)\n",
    "print(f'Accuracy for test set: {accuracy_score(y, y_pred):.5f}')"
   ]
  },
  {
   "cell_type": "markdown",
   "id": "durable-management",
   "metadata": {},
   "source": [
    "**Adam**"
   ]
  },
  {
   "cell_type": "code",
   "execution_count": 52,
   "id": "freelance-player",
   "metadata": {},
   "outputs": [],
   "source": [
    "np.random.seed(256)\n",
    "\n",
    "nn8 = NeuralNetwork()\n",
    "nn8.add_layer(input_size=n, n=m1, activation='sigmoid')\n",
    "nn8.add_layer(n=m2, activation='sigmoid')\n",
    "nn8.add_layer(n=n_classes, activation='softmax')"
   ]
  },
  {
   "cell_type": "code",
   "execution_count": 53,
   "id": "obvious-monte",
   "metadata": {
    "scrolled": true
   },
   "outputs": [
    {
     "name": "stdout",
     "output_type": "stream",
     "text": [
      "Epoch: 0, Training time: 4.42s\n",
      "Loss: 2.19064, Accuracy: 38.81%\n",
      "Epoch: 10, Training time: 40.42s\n",
      "Loss: 1.59195, Accuracy: 63.81%\n",
      "Epoch: 20, Training time: 76.35s\n",
      "Loss: 1.43420, Accuracy: 67.54%\n",
      "Epoch: 30, Training time: 112.15s\n",
      "Loss: 1.31581, Accuracy: 70.86%\n",
      "Epoch: 40, Training time: 148.00s\n",
      "Loss: 1.20278, Accuracy: 77.34%\n",
      "Epoch: 50, Training time: 184.04s\n",
      "Loss: 1.08896, Accuracy: 82.32%\n",
      "Epoch: 60, Training time: 219.89s\n",
      "Loss: 0.98508, Accuracy: 85.60%\n",
      "Epoch: 70, Training time: 255.68s\n",
      "Loss: 0.88932, Accuracy: 87.60%\n",
      "Epoch: 80, Training time: 291.80s\n",
      "Loss: 0.80365, Accuracy: 88.72%\n",
      "Epoch: 90, Training time: 327.75s\n",
      "Loss: 0.72798, Accuracy: 89.48%\n",
      "Epoch: 100, Training time: 363.58s\n",
      "Loss: 0.66918, Accuracy: 90.21%\n",
      "Epoch: 110, Training time: 399.69s\n",
      "Loss: 0.62278, Accuracy: 90.77%\n",
      "Epoch: 120, Training time: 435.50s\n",
      "Loss: 0.58237, Accuracy: 91.25%\n",
      "Epoch: 130, Training time: 471.38s\n",
      "Loss: 0.54715, Accuracy: 91.65%\n",
      "Epoch: 140, Training time: 507.19s\n",
      "Loss: 0.51589, Accuracy: 92.06%\n",
      "Epoch: 150, Training time: 543.27s\n",
      "Loss: 0.49123, Accuracy: 92.39%\n",
      "Epoch: 160, Training time: 579.08s\n",
      "Loss: 0.46956, Accuracy: 92.67%\n",
      "Epoch: 170, Training time: 614.93s\n",
      "Loss: 0.45264, Accuracy: 92.88%\n",
      "Epoch: 180, Training time: 650.90s\n",
      "Loss: 0.44388, Accuracy: 93.12%\n",
      "Epoch: 190, Training time: 686.86s\n",
      "Loss: 0.43876, Accuracy: 93.40%\n",
      "Epoch: 200, Training time: 722.69s\n",
      "Loss: 0.43642, Accuracy: 93.59%\n",
      "Epoch: 210, Training time: 758.84s\n",
      "Loss: 0.43767, Accuracy: 93.71%\n",
      "Epoch: 220, Training time: 794.71s\n",
      "Loss: 0.43683, Accuracy: 93.83%\n"
     ]
    }
   ],
   "source": [
    "history8 = nn8.train(\n",
    "        x_train,\n",
    "        y_train,\n",
    "        batch_size=256, \n",
    "        l_rate=0.0001,\n",
    "        _lambda=0.00001,\n",
    "        epochs=230,\n",
    "        adam=True,\n",
    "        beta1=0.9, \n",
    "        beta2=0.999, \n",
    "        eps=1e-8,\n",
    ")"
   ]
  },
  {
   "cell_type": "code",
   "execution_count": 54,
   "id": "chinese-reviewer",
   "metadata": {},
   "outputs": [
    {
     "data": {
      "image/png": "[encoded data removed]",
      "text/plain": [
       "<Figure size 864x288 with 2 Axes>"
      ]
     },
     "metadata": {
      "needs_background": "light"
     },
     "output_type": "display_data"
    }
   ],
   "source": [
    "fig, (ax1, ax2) = plt.subplots(1, 2, figsize=(12, 4))\n",
    "\n",
    "ax1.plot(history8['acc'], c='royalblue', lw=2)\n",
    "ax1.set_title('Accuracy')\n",
    "ax2.plot(history8['loss'], c='rebeccapurple', lw=2)\n",
    "ax2.set_title('Loss')\n",
    "plt.show()"
   ]
  },
  {
   "cell_type": "code",
   "execution_count": 55,
   "id": "economic-powell",
   "metadata": {},
   "outputs": [
    {
     "name": "stdout",
     "output_type": "stream",
     "text": [
      "Accuracy for train set: 0.93897\n"
     ]
    }
   ],
   "source": [
    "y_pred = nn8.forward_pass(x_train)\n",
    "y_pred = np.argmax(y_pred, axis=0).reshape(-1, 1)\n",
    "y = np.argmax(y_train, axis=1).reshape(-1, 1)\n",
    "print(f'Accuracy for train set: {accuracy_score(y, y_pred):.5f}')"
   ]
  },
  {
   "cell_type": "code",
   "execution_count": 56,
   "id": "wound-fountain",
   "metadata": {},
   "outputs": [
    {
     "name": "stdout",
     "output_type": "stream",
     "text": [
      "Accuracy for test set: 0.93690\n"
     ]
    }
   ],
   "source": [
    "y_pred = nn8.forward_pass(x_test)\n",
    "y_pred = np.argmax(y_pred, axis=0).reshape(-1, 1)\n",
    "y = np.argmax(y_test, axis=1).reshape(-1, 1)\n",
    "print(f'Accuracy for test set: {accuracy_score(y, y_pred):.5f}')"
   ]
  },
  {
   "cell_type": "markdown",
   "id": "graphic-pillow",
   "metadata": {},
   "source": [
    "### Deep network (> 5 hidden layers)\n",
    "\n",
    "50 epochs and linear activations, because of lower computational cost; just for demonstration."
   ]
  },
  {
   "cell_type": "code",
   "execution_count": 72,
   "id": "metric-survival",
   "metadata": {},
   "outputs": [],
   "source": [
    "np.random.seed(256)\n",
    "\n",
    "nn9 = NeuralNetwork()\n",
    "nn9.add_layer(input_size=n, n=256, activation='linear')\n",
    "\n",
    "nn9.add_layer(n=128, activation='linear')\n",
    "nn9.add_layer(n=128, activation='linear')\n",
    "nn9.add_layer(n=64, activation='linear')\n",
    "nn9.add_layer(n=64, activation='linear')\n",
    "nn9.add_layer(n=32, activation='linear')\n",
    "\n",
    "nn9.add_layer(n=n_classes, activation='softmax')"
   ]
  },
  {
   "cell_type": "code",
   "execution_count": 73,
   "id": "early-deviation",
   "metadata": {},
   "outputs": [
    {
     "name": "stdout",
     "output_type": "stream",
     "text": [
      "Epoch: 0, Training time: 4.18s\n",
      "Loss: 2.07763, Accuracy: 45.32%\n",
      "Epoch: 10, Training time: 41.83s\n",
      "Loss: 0.91163, Accuracy: 77.38%\n",
      "Epoch: 20, Training time: 79.78s\n",
      "Loss: 0.74581, Accuracy: 80.88%\n",
      "Epoch: 30, Training time: 117.50s\n",
      "Loss: 0.66174, Accuracy: 82.70%\n",
      "Epoch: 40, Training time: 155.15s\n",
      "Loss: 0.62520, Accuracy: 83.69%\n"
     ]
    }
   ],
   "source": [
    "history9 = nn9.train(\n",
    "        x_train,\n",
    "        y_train,\n",
    "        batch_size=256, \n",
    "        l_rate=0.00001,\n",
    "        _lambda=0.000001,\n",
    "        epochs=50,\n",
    "        adam=True,\n",
    "        beta1=0.9, \n",
    "        beta2=0.999, \n",
    "        eps=1e-8,\n",
    ")"
   ]
  },
  {
   "cell_type": "code",
   "execution_count": 74,
   "id": "earlier-democracy",
   "metadata": {},
   "outputs": [
    {
     "data": {
      "image/png": "[encoded data removed]",
      "text/plain": [
       "<Figure size 864x288 with 2 Axes>"
      ]
     },
     "metadata": {
      "needs_background": "light"
     },
     "output_type": "display_data"
    }
   ],
   "source": [
    "fig, (ax1, ax2) = plt.subplots(1, 2, figsize=(12, 4))\n",
    "\n",
    "ax1.plot(history9['acc'], c='royalblue', lw=2)\n",
    "ax1.set_title('Accuracy')\n",
    "ax2.plot(history9['loss'], c='rebeccapurple', lw=2)\n",
    "ax2.set_title('Loss')\n",
    "plt.show()"
   ]
  },
  {
   "cell_type": "code",
   "execution_count": null,
   "id": "olympic-package",
   "metadata": {},
   "outputs": [],
   "source": []
  },
  {
   "cell_type": "code",
   "execution_count": null,
   "id": "opening-mumbai",
   "metadata": {},
   "outputs": [],
   "source": []
  }
 ],
 "metadata": {
  "hide_input": false,
  "kernelspec": {
   "display_name": "Python 3",
   "language": "python",
   "name": "python3"
  },
  "language_info": {
   "codemirror_mode": {
    "name": "ipython",
    "version": 3
   },
   "file_extension": ".py",
   "mimetype": "text/x-python",
   "name": "python",
   "nbconvert_exporter": "python",
   "pygments_lexer": "ipython3",
   "version": "3.6.9"
  },
  "varInspector": {
   "cols": {
    "lenName": 16,
    "lenType": 16,
    "lenVar": 40
   },
   "kernels_config": {
    "python": {
     "delete_cmd_postfix": "",
     "delete_cmd_prefix": "del ",
     "library": "var_list.py",
     "varRefreshCmd": "print(var_dic_list())"
    },
    "r": {
     "delete_cmd_postfix": ") ",
     "delete_cmd_prefix": "rm(",
     "library": "var_list.r",
     "varRefreshCmd": "cat(var_dic_list()) "
    }
   },
   "types_to_exclude": [
    "module",
    "function",
    "builtin_function_or_method",
    "instance",
    "_Feature"
   ],
   "window_display": false
  }
 },
 "nbformat": 4,
 "nbformat_minor": 5
}
