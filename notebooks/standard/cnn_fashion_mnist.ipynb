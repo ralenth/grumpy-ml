{
 "cells": [
  {
   "cell_type": "markdown",
   "metadata": {
    "id": "1KlW10B64XQj"
   },
   "source": [
    "# **HOMEWORK 1**\n",
    "Build a classifier for fashion MNIST.\n",
    "\n",
    "**2. Improve the architecture**. Experiment with different numbers of layers, size of layers, number of filters, size of filters. You are required to make those adjustment to get the highest accuracy. Watch out for overfitting -- we want the highest testing accuracy!\n",
    "Please provide a PDF file of the result, the best test accuracy and the architecture (different numbers of layers, size of layers, number of filters, size of filters)"
   ]
  },
  {
   "cell_type": "code",
   "execution_count": 1,
   "metadata": {
    "id": "QCk3NCsn47TS"
   },
   "outputs": [],
   "source": [
    "import numpy as np\n",
    "import tensorflow.keras as keras\n",
    "from tensorflow.keras import layers\n",
    "from tensorflow.keras import models\n",
    "import matplotlib.pyplot as plt"
   ]
  },
  {
   "cell_type": "markdown",
   "metadata": {
    "id": "Ch6kp-RT44bS"
   },
   "source": [
    "Let's start with loading data."
   ]
  },
  {
   "cell_type": "code",
   "execution_count": 2,
   "metadata": {
    "colab": {
     "base_uri": "https://localhost:8080/"
    },
    "id": "_Aa1fMWA2siv",
    "outputId": "dccf0896-e5d1-4794-fdb0-fc623f9388e3"
   },
   "outputs": [
    {
     "name": "stdout",
     "output_type": "stream",
     "text": [
      "Downloading data from https://storage.googleapis.com/tensorflow/tf-keras-datasets/train-labels-idx1-ubyte.gz\n",
      "32768/29515 [=================================] - 0s 0us/step\n",
      "Downloading data from https://storage.googleapis.com/tensorflow/tf-keras-datasets/train-images-idx3-ubyte.gz\n",
      "26427392/26421880 [==============================] - 0s 0us/step\n",
      "Downloading data from https://storage.googleapis.com/tensorflow/tf-keras-datasets/t10k-labels-idx1-ubyte.gz\n",
      "8192/5148 [===============================================] - 0s 0us/step\n",
      "Downloading data from https://storage.googleapis.com/tensorflow/tf-keras-datasets/t10k-images-idx3-ubyte.gz\n",
      "4423680/4422102 [==============================] - 0s 0us/step\n"
     ]
    }
   ],
   "source": [
    "(X_train, y_train), (X_test, y_test) = keras.datasets.fashion_mnist.load_data()"
   ]
  },
  {
   "cell_type": "markdown",
   "metadata": {
    "id": "KSUGKO_n6IlJ"
   },
   "source": [
    "We need to reformat encoding of our target classes."
   ]
  },
  {
   "cell_type": "code",
   "execution_count": 3,
   "metadata": {
    "id": "bL2Qe6Hc6CZo"
   },
   "outputs": [],
   "source": [
    "from tensorflow.keras.utils import to_categorical\n",
    "y_train = to_categorical(y_train)\n",
    "y_test = to_categorical(y_test)"
   ]
  },
  {
   "cell_type": "markdown",
   "metadata": {
    "id": "xjp4UCuOJaSz"
   },
   "source": [
    "### Model1\n",
    "\n",
    "Second model from problem1 was definitely overfitting - let's try to overcome that with adding some regularization."
   ]
  },
  {
   "cell_type": "code",
   "execution_count": 4,
   "metadata": {
    "id": "yQ42rscq9Zxj"
   },
   "outputs": [],
   "source": [
    "model1 = models.Sequential()\n",
    "\n",
    "model1.add(layers.Conv2D(32, (3, 3), activation='relu', input_shape=(28, 28, 1)))\n",
    "model1.add(layers.MaxPooling2D((2, 2)))\n",
    "model1.add(layers.Dropout(0.2))\n",
    "\n",
    "model1.add(layers.Conv2D(64, (3, 3), activation='relu'))\n",
    "model1.add(layers.MaxPooling2D((2, 2)))\n",
    "model1.add(layers.Dropout(0.2))\n",
    "\n",
    "model1.add(layers.Conv2D(64, (3, 3), activation='relu'))\n",
    "\n",
    "model1.add(layers.Flatten())\n",
    "model1.add(layers.Dense(64, activation='relu'))\n",
    "model1.add(layers.Dropout(0.1))\n",
    "model1.add(layers.Dense(10, activation='softmax'))"
   ]
  },
  {
   "cell_type": "markdown",
   "metadata": {
    "id": "GQW-497uKSPH"
   },
   "source": [
    "Moreover, we will use **Adam** optimizer."
   ]
  },
  {
   "cell_type": "code",
   "execution_count": 5,
   "metadata": {
    "id": "Krs1l-2LBr9J"
   },
   "outputs": [],
   "source": [
    "model1.compile(optimizer='Adam', \n",
    "               loss='categorical_crossentropy',\n",
    "               metrics=['accuracy'])"
   ]
  },
  {
   "cell_type": "code",
   "execution_count": 6,
   "metadata": {
    "colab": {
     "base_uri": "https://localhost:8080/"
    },
    "id": "RlaSM7R9-slV",
    "outputId": "050ad743-22da-4222-aa12-8ed36b5f94df"
   },
   "outputs": [
    {
     "name": "stdout",
     "output_type": "stream",
     "text": [
      "Model: \"sequential\"\n",
      "_________________________________________________________________\n",
      "Layer (type)                 Output Shape              Param #   \n",
      "=================================================================\n",
      "conv2d (Conv2D)              (None, 26, 26, 32)        320       \n",
      "_________________________________________________________________\n",
      "max_pooling2d (MaxPooling2D) (None, 13, 13, 32)        0         \n",
      "_________________________________________________________________\n",
      "dropout (Dropout)            (None, 13, 13, 32)        0         \n",
      "_________________________________________________________________\n",
      "conv2d_1 (Conv2D)            (None, 11, 11, 64)        18496     \n",
      "_________________________________________________________________\n",
      "max_pooling2d_1 (MaxPooling2 (None, 5, 5, 64)          0         \n",
      "_________________________________________________________________\n",
      "dropout_1 (Dropout)          (None, 5, 5, 64)          0         \n",
      "_________________________________________________________________\n",
      "conv2d_2 (Conv2D)            (None, 3, 3, 64)          36928     \n",
      "_________________________________________________________________\n",
      "flatten (Flatten)            (None, 576)               0         \n",
      "_________________________________________________________________\n",
      "dense (Dense)                (None, 64)                36928     \n",
      "_________________________________________________________________\n",
      "dropout_2 (Dropout)          (None, 64)                0         \n",
      "_________________________________________________________________\n",
      "dense_1 (Dense)              (None, 10)                650       \n",
      "=================================================================\n",
      "Total params: 93,322\n",
      "Trainable params: 93,322\n",
      "Non-trainable params: 0\n",
      "_________________________________________________________________\n"
     ]
    }
   ],
   "source": [
    "model1.summary()"
   ]
  },
  {
   "cell_type": "markdown",
   "metadata": {
    "id": "_l-2BXvdBMWq"
   },
   "source": [
    "We need to reshape our data."
   ]
  },
  {
   "cell_type": "code",
   "execution_count": 7,
   "metadata": {
    "id": "qfZFMEr7BGDZ"
   },
   "outputs": [],
   "source": [
    "X_train_conv = X_train.reshape((60000, 28, 28, 1))\n",
    "X_train_conv = X_train_conv.astype('float32') / 255\n",
    "X_test_conv = X_test.reshape((10000, 28, 28, 1))\n",
    "X_test_conv = X_test_conv.astype('float32') / 255"
   ]
  },
  {
   "cell_type": "markdown",
   "metadata": {
    "id": "pxJCHm7vBzP8"
   },
   "source": [
    "And now we can train our network."
   ]
  },
  {
   "cell_type": "code",
   "execution_count": 8,
   "metadata": {
    "colab": {
     "base_uri": "https://localhost:8080/"
    },
    "id": "t4O1lDExB4hV",
    "outputId": "149f10cb-1eaf-4708-b618-d4c881069979"
   },
   "outputs": [
    {
     "name": "stdout",
     "output_type": "stream",
     "text": [
      "Epoch 1/15\n",
      "469/469 [==============================] - 54s 114ms/step - loss: 0.9808 - accuracy: 0.6356\n",
      "Epoch 2/15\n",
      "469/469 [==============================] - 53s 112ms/step - loss: 0.4696 - accuracy: 0.8253\n",
      "Epoch 3/15\n",
      "469/469 [==============================] - 53s 113ms/step - loss: 0.3891 - accuracy: 0.8583\n",
      "Epoch 4/15\n",
      "469/469 [==============================] - 53s 114ms/step - loss: 0.3445 - accuracy: 0.8730\n",
      "Epoch 5/15\n",
      "469/469 [==============================] - 53s 114ms/step - loss: 0.3221 - accuracy: 0.8829\n",
      "Epoch 6/15\n",
      "469/469 [==============================] - 54s 114ms/step - loss: 0.3000 - accuracy: 0.8873\n",
      "Epoch 7/15\n",
      "469/469 [==============================] - 52s 110ms/step - loss: 0.2883 - accuracy: 0.8943\n",
      "Epoch 8/15\n",
      "469/469 [==============================] - 55s 117ms/step - loss: 0.2737 - accuracy: 0.9006\n",
      "Epoch 9/15\n",
      "469/469 [==============================] - 52s 112ms/step - loss: 0.2597 - accuracy: 0.9038\n",
      "Epoch 10/15\n",
      "469/469 [==============================] - 53s 112ms/step - loss: 0.2543 - accuracy: 0.9046\n",
      "Epoch 11/15\n",
      "469/469 [==============================] - 54s 115ms/step - loss: 0.2382 - accuracy: 0.9122\n",
      "Epoch 12/15\n",
      "469/469 [==============================] - 53s 113ms/step - loss: 0.2279 - accuracy: 0.9169\n",
      "Epoch 13/15\n",
      "469/469 [==============================] - 54s 115ms/step - loss: 0.2301 - accuracy: 0.9147\n",
      "Epoch 14/15\n",
      "469/469 [==============================] - 53s 114ms/step - loss: 0.2176 - accuracy: 0.9195\n",
      "Epoch 15/15\n",
      "469/469 [==============================] - 52s 112ms/step - loss: 0.2132 - accuracy: 0.9195\n"
     ]
    }
   ],
   "source": [
    "history1 = model1.fit(X_train_conv, y_train, epochs=15, batch_size=128)"
   ]
  },
  {
   "cell_type": "code",
   "execution_count": 9,
   "metadata": {
    "colab": {
     "base_uri": "https://localhost:8080/",
     "height": 563
    },
    "id": "8HowbsRqB_xr",
    "outputId": "e3460789-3e25-4200-89ee-452f7864735e"
   },
   "outputs": [
    {
     "data": {
      "image/png": "[encoded data removed]",
      "text/plain": [
       "<Figure size 432x288 with 1 Axes>"
      ]
     },
     "metadata": {
      "needs_background": "light",
      "tags": []
     },
     "output_type": "display_data"
    },
    {
     "name": "stdout",
     "output_type": "stream",
     "text": [
      "\n"
     ]
    },
    {
     "data": {
      "image/png": "[encoded data removed]",
      "text/plain": [
       "<Figure size 432x288 with 1 Axes>"
      ]
     },
     "metadata": {
      "needs_background": "light",
      "tags": []
     },
     "output_type": "display_data"
    }
   ],
   "source": [
    "plt.plot(history1.history['loss'], c='rebeccapurple')\n",
    "plt.title('Evolution of loss value')\n",
    "plt.show()\n",
    "print()\n",
    "plt.plot(history1.history['accuracy'], c='darkorange')\n",
    "plt.title('Evolution of accuracy score')\n",
    "plt.show()"
   ]
  },
  {
   "cell_type": "markdown",
   "metadata": {
    "id": "HqJdoBMyG0gg"
   },
   "source": [
    "As previously, everyting looks good."
   ]
  },
  {
   "cell_type": "code",
   "execution_count": 10,
   "metadata": {
    "colab": {
     "base_uri": "https://localhost:8080/"
    },
    "id": "wvKD2QlAGrCO",
    "outputId": "1d51b8ca-8570-4967-f093-a9f6d75660f7"
   },
   "outputs": [
    {
     "name": "stdout",
     "output_type": "stream",
     "text": [
      "1875/1875 [==============================] - 19s 10ms/step - loss: 0.1673 - accuracy: 0.9365\n",
      "Training accuracy: 0.9365\n",
      "Training loss: 0.1673\n",
      "\n",
      "313/313 [==============================] - 3s 10ms/step - loss: 0.2491 - accuracy: 0.9100\n",
      "Test accuracy: 0.91\n",
      "Test loss: 0.2491\n"
     ]
    }
   ],
   "source": [
    "train_loss, train_acc = model1.evaluate(X_train_conv, y_train)\n",
    "print(f'Training accuracy: {round(train_acc, 4)}')\n",
    "print(f'Training loss: {round(train_loss, 4)}\\n')\n",
    "\n",
    "test_loss, test_acc = model1.evaluate(X_test_conv, y_test)\n",
    "print(f'Test accuracy: {round(test_acc, 4)}')\n",
    "print(f'Test loss: {round(test_loss, 4)}')"
   ]
  },
  {
   "cell_type": "markdown",
   "metadata": {
    "id": "YfgJkAtNH_kH"
   },
   "source": [
    "It's better than previously - difference between test and train accuracy is smaller, but probably we could do better."
   ]
  },
  {
   "cell_type": "code",
   "execution_count": 11,
   "metadata": {
    "colab": {
     "base_uri": "https://localhost:8080/",
     "height": 472
    },
    "id": "-goch__aG9Fh",
    "outputId": "92434651-b539-481f-aa01-afdf90e1444d"
   },
   "outputs": [
    {
     "data": {
      "image/png": "[encoded data removed]",
      "text/plain": [
       "<Figure size 576x576 with 2 Axes>"
      ]
     },
     "metadata": {
      "needs_background": "light",
      "tags": []
     },
     "output_type": "display_data"
    }
   ],
   "source": [
    "from sklearn.metrics import confusion_matrix\n",
    "import tensorflow as tf\n",
    "\n",
    "y_pred = model1.predict(X_test_conv)\n",
    "predicted_categories = tf.argmax(y_pred, axis=1)\n",
    "true_categories = tf.argmax(y_test, axis=1)\n",
    "\n",
    "cm = confusion_matrix(true_categories, predicted_categories)\n",
    "\n",
    "fig, ax = plt.subplots(figsize=(8, 8))\n",
    "plt.imshow(cm, cmap='RdBu')\n",
    "\n",
    "ax.set_xlabel('Predicted labels', fontsize=14)\n",
    "ax.set_ylabel('True labels', fontsize=14)\n",
    "ax.set_title('Confusion matrix', fontsize=18)\n",
    "\n",
    "ax.set_xticks(list(range(10)))\n",
    "ax.set_yticks(list(range(10)))\n",
    "\n",
    "plt.colorbar(ax=ax)\n",
    "plt.show()"
   ]
  },
  {
   "cell_type": "markdown",
   "metadata": {
    "id": "Mjs3WKBGH2wH"
   },
   "source": [
    "As previously, classes **6** and **3** are the most problematic ones.\n",
    "\n",
    "### Model2\n",
    "\n",
    "We will add batch normalization to the previous model and train it a little bit longer."
   ]
  },
  {
   "cell_type": "code",
   "execution_count": 12,
   "metadata": {
    "id": "kQ9r2Og5H-4s"
   },
   "outputs": [],
   "source": [
    "model2 = models.Sequential()\n",
    "\n",
    "model2.add(layers.Conv2D(32, (3, 3), activation='relu', input_shape=(28, 28, 1)))\n",
    "model2.add(layers.BatchNormalization())\n",
    "model2.add(layers.MaxPooling2D((2, 2)))\n",
    "model2.add(layers.Dropout(0.2))\n",
    "\n",
    "model2.add(layers.Conv2D(64, (3, 3), activation='relu'))\n",
    "model2.add(layers.BatchNormalization())\n",
    "model2.add(layers.MaxPooling2D((2, 2)))\n",
    "model2.add(layers.Dropout(0.2))\n",
    "\n",
    "model2.add(layers.Conv2D(64, (3, 3), activation='relu'))\n",
    "model2.add(layers.BatchNormalization())\n",
    "\n",
    "model2.add(layers.Flatten())\n",
    "model2.add(layers.Dense(64, activation='relu'))\n",
    "model2.add(layers.Dropout(0.1))\n",
    "model2.add(layers.Dense(10, activation='softmax'))\n",
    "\n",
    "model2.compile(optimizer='Adam', \n",
    "               loss='categorical_crossentropy',\n",
    "               metrics=['accuracy'])"
   ]
  },
  {
   "cell_type": "code",
   "execution_count": 13,
   "metadata": {
    "colab": {
     "base_uri": "https://localhost:8080/"
    },
    "id": "wIcyivWIR1n9",
    "outputId": "366b796b-d7a4-4723-a944-7e206e6f1a73"
   },
   "outputs": [
    {
     "name": "stdout",
     "output_type": "stream",
     "text": [
      "Model: \"sequential_1\"\n",
      "_________________________________________________________________\n",
      "Layer (type)                 Output Shape              Param #   \n",
      "=================================================================\n",
      "conv2d_3 (Conv2D)            (None, 26, 26, 32)        320       \n",
      "_________________________________________________________________\n",
      "batch_normalization (BatchNo (None, 26, 26, 32)        128       \n",
      "_________________________________________________________________\n",
      "max_pooling2d_2 (MaxPooling2 (None, 13, 13, 32)        0         \n",
      "_________________________________________________________________\n",
      "dropout_3 (Dropout)          (None, 13, 13, 32)        0         \n",
      "_________________________________________________________________\n",
      "conv2d_4 (Conv2D)            (None, 11, 11, 64)        18496     \n",
      "_________________________________________________________________\n",
      "batch_normalization_1 (Batch (None, 11, 11, 64)        256       \n",
      "_________________________________________________________________\n",
      "max_pooling2d_3 (MaxPooling2 (None, 5, 5, 64)          0         \n",
      "_________________________________________________________________\n",
      "dropout_4 (Dropout)          (None, 5, 5, 64)          0         \n",
      "_________________________________________________________________\n",
      "conv2d_5 (Conv2D)            (None, 3, 3, 64)          36928     \n",
      "_________________________________________________________________\n",
      "batch_normalization_2 (Batch (None, 3, 3, 64)          256       \n",
      "_________________________________________________________________\n",
      "flatten_1 (Flatten)          (None, 576)               0         \n",
      "_________________________________________________________________\n",
      "dense_2 (Dense)              (None, 64)                36928     \n",
      "_________________________________________________________________\n",
      "dropout_5 (Dropout)          (None, 64)                0         \n",
      "_________________________________________________________________\n",
      "dense_3 (Dense)              (None, 10)                650       \n",
      "=================================================================\n",
      "Total params: 93,962\n",
      "Trainable params: 93,642\n",
      "Non-trainable params: 320\n",
      "_________________________________________________________________\n"
     ]
    }
   ],
   "source": [
    "model2.summary()"
   ]
  },
  {
   "cell_type": "code",
   "execution_count": 14,
   "metadata": {
    "colab": {
     "base_uri": "https://localhost:8080/"
    },
    "id": "FXC4CHGPR_fu",
    "outputId": "11811666-06cc-41e1-a50c-64e0b27bbdf0"
   },
   "outputs": [
    {
     "name": "stdout",
     "output_type": "stream",
     "text": [
      "Epoch 1/30\n",
      "469/469 [==============================] - 75s 159ms/step - loss: 0.7195 - accuracy: 0.7449\n",
      "Epoch 2/30\n",
      "469/469 [==============================] - 73s 156ms/step - loss: 0.3542 - accuracy: 0.8704\n",
      "Epoch 3/30\n",
      "469/469 [==============================] - 77s 164ms/step - loss: 0.3021 - accuracy: 0.8893\n",
      "Epoch 4/30\n",
      "469/469 [==============================] - 77s 163ms/step - loss: 0.2695 - accuracy: 0.9001\n",
      "Epoch 5/30\n",
      "469/469 [==============================] - 73s 156ms/step - loss: 0.2538 - accuracy: 0.9064\n",
      "Epoch 6/30\n",
      "469/469 [==============================] - 73s 156ms/step - loss: 0.2344 - accuracy: 0.9116\n",
      "Epoch 7/30\n",
      "469/469 [==============================] - 75s 159ms/step - loss: 0.2262 - accuracy: 0.9160\n",
      "Epoch 8/30\n",
      "469/469 [==============================] - 73s 155ms/step - loss: 0.2150 - accuracy: 0.9177\n",
      "Epoch 9/30\n",
      "469/469 [==============================] - 73s 156ms/step - loss: 0.2028 - accuracy: 0.9233\n",
      "Epoch 10/30\n",
      "469/469 [==============================] - 73s 156ms/step - loss: 0.1981 - accuracy: 0.9260\n",
      "Epoch 11/30\n",
      "469/469 [==============================] - 75s 159ms/step - loss: 0.1874 - accuracy: 0.9291\n",
      "Epoch 12/30\n",
      "469/469 [==============================] - 74s 158ms/step - loss: 0.1758 - accuracy: 0.9322\n",
      "Epoch 13/30\n",
      "469/469 [==============================] - 74s 158ms/step - loss: 0.1734 - accuracy: 0.9337\n",
      "Epoch 14/30\n",
      "469/469 [==============================] - 74s 158ms/step - loss: 0.1644 - accuracy: 0.9378\n",
      "Epoch 15/30\n",
      "469/469 [==============================] - 75s 161ms/step - loss: 0.1681 - accuracy: 0.9363\n",
      "Epoch 16/30\n",
      "469/469 [==============================] - 75s 160ms/step - loss: 0.1626 - accuracy: 0.9390\n",
      "Epoch 17/30\n",
      "469/469 [==============================] - 74s 157ms/step - loss: 0.1593 - accuracy: 0.9391\n",
      "Epoch 18/30\n",
      "469/469 [==============================] - 75s 159ms/step - loss: 0.1541 - accuracy: 0.9421\n",
      "Epoch 19/30\n",
      "469/469 [==============================] - 75s 161ms/step - loss: 0.1467 - accuracy: 0.9449\n",
      "Epoch 20/30\n",
      "469/469 [==============================] - 75s 160ms/step - loss: 0.1459 - accuracy: 0.9445\n",
      "Epoch 21/30\n",
      "469/469 [==============================] - 74s 157ms/step - loss: 0.1390 - accuracy: 0.9462\n",
      "Epoch 22/30\n",
      "469/469 [==============================] - 73s 155ms/step - loss: 0.1398 - accuracy: 0.9474\n",
      "Epoch 23/30\n",
      "469/469 [==============================] - 75s 159ms/step - loss: 0.1366 - accuracy: 0.9476\n",
      "Epoch 24/30\n",
      "469/469 [==============================] - 74s 158ms/step - loss: 0.1348 - accuracy: 0.9482\n",
      "Epoch 25/30\n",
      "469/469 [==============================] - 74s 159ms/step - loss: 0.1294 - accuracy: 0.9496\n",
      "Epoch 26/30\n",
      "469/469 [==============================] - 74s 159ms/step - loss: 0.1269 - accuracy: 0.9515\n",
      "Epoch 27/30\n",
      "469/469 [==============================] - 74s 158ms/step - loss: 0.1287 - accuracy: 0.9497\n",
      "Epoch 28/30\n",
      "469/469 [==============================] - 77s 165ms/step - loss: 0.1234 - accuracy: 0.9533\n",
      "Epoch 29/30\n",
      "469/469 [==============================] - 74s 157ms/step - loss: 0.1271 - accuracy: 0.9505\n",
      "Epoch 30/30\n",
      "469/469 [==============================] - 78s 167ms/step - loss: 0.1180 - accuracy: 0.9551\n"
     ]
    }
   ],
   "source": [
    "history2 = model2.fit(X_train_conv, y_train, epochs=30, batch_size=128)"
   ]
  },
  {
   "cell_type": "code",
   "execution_count": 15,
   "metadata": {
    "colab": {
     "base_uri": "https://localhost:8080/",
     "height": 563
    },
    "id": "wRFpUPQoLlHj",
    "outputId": "ac273873-1d18-447e-a3f5-498a0e45bdfa"
   },
   "outputs": [
    {
     "data": {
      "image/png": "[encoded data removed]",
      "text/plain": [
       "<Figure size 432x288 with 1 Axes>"
      ]
     },
     "metadata": {
      "needs_background": "light",
      "tags": []
     },
     "output_type": "display_data"
    },
    {
     "name": "stdout",
     "output_type": "stream",
     "text": [
      "\n"
     ]
    },
    {
     "data": {
      "image/png": "[encoded data removed]",
      "text/plain": [
       "<Figure size 432x288 with 1 Axes>"
      ]
     },
     "metadata": {
      "needs_background": "light",
      "tags": []
     },
     "output_type": "display_data"
    }
   ],
   "source": [
    "plt.plot(history2.history['loss'], c='rebeccapurple')\n",
    "plt.title('Evolution of loss value')\n",
    "plt.show()\n",
    "print()\n",
    "plt.plot(history2.history['accuracy'], c='darkorange')\n",
    "plt.title('Evolution of accuracy score')\n",
    "plt.show()"
   ]
  },
  {
   "cell_type": "code",
   "execution_count": 17,
   "metadata": {
    "colab": {
     "base_uri": "https://localhost:8080/"
    },
    "id": "pa82i808aj1t",
    "outputId": "b99ba1df-90db-4907-c931-0b743f008324"
   },
   "outputs": [
    {
     "name": "stdout",
     "output_type": "stream",
     "text": [
      "1875/1875 [==============================] - 23s 12ms/step - loss: 0.1316 - accuracy: 0.9502\n",
      "Training accuracy: 0.9502\n",
      "Training loss: 0.1316\n",
      "\n",
      "313/313 [==============================] - 4s 13ms/step - loss: 0.3143 - accuracy: 0.9021\n",
      "Test accuracy: 0.9021\n",
      "Test loss: 0.3143\n"
     ]
    }
   ],
   "source": [
    "train_loss, train_acc = model2.evaluate(X_train_conv, y_train)\n",
    "print(f'Training accuracy: {round(train_acc, 4)}')\n",
    "print(f'Training loss: {round(train_loss, 4)}\\n')\n",
    "\n",
    "test_loss, test_acc = model2.evaluate(X_test_conv, y_test)\n",
    "print(f'Test accuracy: {round(test_acc, 4)}')\n",
    "print(f'Test loss: {round(test_loss, 4)}')"
   ]
  },
  {
   "cell_type": "markdown",
   "metadata": {
    "id": "SwSuvIc2bBQH"
   },
   "source": [
    "And we have even more overfitting! Let's try one last time.\n",
    "\n",
    "### Model 3\n",
    "\n",
    "We add even more dropout, but no batch normalization this time."
   ]
  },
  {
   "cell_type": "code",
   "execution_count": 32,
   "metadata": {
    "id": "AbA1iRqcaoTc"
   },
   "outputs": [],
   "source": [
    "model3 = models.Sequential()\n",
    "\n",
    "model3.add(layers.Conv2D(32, (3, 3), activation='relu', input_shape=(28, 28, 1)))\n",
    "model3.add(layers.MaxPooling2D((2, 2)))\n",
    "model3.add(layers.Dropout(0.25))\n",
    "\n",
    "model3.add(layers.Conv2D(64, (3, 3), activation='relu'))\n",
    "model3.add(layers.MaxPooling2D((2, 2)))\n",
    "model3.add(layers.Dropout(0.2))\n",
    "\n",
    "model3.add(layers.Conv2D(64, (3, 3), activation='relu'))\n",
    "\n",
    "model3.add(layers.Flatten())\n",
    "model3.add(layers.Dense(64, activation='relu'))\n",
    "model3.add(layers.Dropout(0.15))\n",
    "model3.add(layers.Dense(10, activation='softmax'))\n",
    "\n",
    "model3.compile(optimizer='Adam', \n",
    "               loss='categorical_crossentropy',\n",
    "               metrics=['accuracy'])"
   ]
  },
  {
   "cell_type": "code",
   "execution_count": 33,
   "metadata": {
    "colab": {
     "base_uri": "https://localhost:8080/"
    },
    "id": "c3rSqoVRbUA3",
    "outputId": "6fb98eb4-368d-4002-a5b6-c0db89a448d8"
   },
   "outputs": [
    {
     "name": "stdout",
     "output_type": "stream",
     "text": [
      "Model: \"sequential_7\"\n",
      "_________________________________________________________________\n",
      "Layer (type)                 Output Shape              Param #   \n",
      "=================================================================\n",
      "conv2d_21 (Conv2D)           (None, 26, 26, 32)        320       \n",
      "_________________________________________________________________\n",
      "max_pooling2d_14 (MaxPooling (None, 13, 13, 32)        0         \n",
      "_________________________________________________________________\n",
      "dropout_21 (Dropout)         (None, 13, 13, 32)        0         \n",
      "_________________________________________________________________\n",
      "conv2d_22 (Conv2D)           (None, 11, 11, 64)        18496     \n",
      "_________________________________________________________________\n",
      "max_pooling2d_15 (MaxPooling (None, 5, 5, 64)          0         \n",
      "_________________________________________________________________\n",
      "dropout_22 (Dropout)         (None, 5, 5, 64)          0         \n",
      "_________________________________________________________________\n",
      "conv2d_23 (Conv2D)           (None, 3, 3, 64)          36928     \n",
      "_________________________________________________________________\n",
      "flatten_7 (Flatten)          (None, 576)               0         \n",
      "_________________________________________________________________\n",
      "dense_14 (Dense)             (None, 64)                36928     \n",
      "_________________________________________________________________\n",
      "dropout_23 (Dropout)         (None, 64)                0         \n",
      "_________________________________________________________________\n",
      "dense_15 (Dense)             (None, 10)                650       \n",
      "=================================================================\n",
      "Total params: 93,322\n",
      "Trainable params: 93,322\n",
      "Non-trainable params: 0\n",
      "_________________________________________________________________\n"
     ]
    }
   ],
   "source": [
    "model3.summary()"
   ]
  },
  {
   "cell_type": "code",
   "execution_count": 34,
   "metadata": {
    "colab": {
     "base_uri": "https://localhost:8080/"
    },
    "id": "LqUj_nDBbWvG",
    "outputId": "515d371b-e391-44a9-b8b1-83b4d6de32e8"
   },
   "outputs": [
    {
     "name": "stdout",
     "output_type": "stream",
     "text": [
      "Epoch 1/25\n",
      "375/375 [==============================] - 45s 120ms/step - loss: 1.0660 - accuracy: 0.6163 - val_loss: 0.4795 - val_accuracy: 0.8291\n",
      "Epoch 2/25\n",
      "375/375 [==============================] - 44s 117ms/step - loss: 0.4970 - accuracy: 0.8146 - val_loss: 0.3818 - val_accuracy: 0.8676\n",
      "Epoch 3/25\n",
      "375/375 [==============================] - 44s 118ms/step - loss: 0.4218 - accuracy: 0.8485 - val_loss: 0.3507 - val_accuracy: 0.8718\n",
      "Epoch 4/25\n",
      "375/375 [==============================] - 44s 118ms/step - loss: 0.3792 - accuracy: 0.8604 - val_loss: 0.3165 - val_accuracy: 0.8846\n",
      "Epoch 5/25\n",
      "375/375 [==============================] - 45s 120ms/step - loss: 0.3487 - accuracy: 0.8706 - val_loss: 0.3101 - val_accuracy: 0.8859\n",
      "Epoch 6/25\n",
      "375/375 [==============================] - 45s 120ms/step - loss: 0.3221 - accuracy: 0.8818 - val_loss: 0.3001 - val_accuracy: 0.8904\n",
      "Epoch 7/25\n",
      "375/375 [==============================] - 44s 117ms/step - loss: 0.3140 - accuracy: 0.8846 - val_loss: 0.2806 - val_accuracy: 0.8946\n",
      "Epoch 8/25\n",
      "375/375 [==============================] - 44s 118ms/step - loss: 0.2975 - accuracy: 0.8919 - val_loss: 0.2714 - val_accuracy: 0.8992\n",
      "Epoch 9/25\n",
      "375/375 [==============================] - 44s 117ms/step - loss: 0.2826 - accuracy: 0.8946 - val_loss: 0.2666 - val_accuracy: 0.9020\n",
      "Epoch 10/25\n",
      "375/375 [==============================] - 44s 118ms/step - loss: 0.2762 - accuracy: 0.8988 - val_loss: 0.2666 - val_accuracy: 0.8996\n",
      "Epoch 11/25\n",
      "375/375 [==============================] - 45s 119ms/step - loss: 0.2662 - accuracy: 0.9024 - val_loss: 0.2576 - val_accuracy: 0.9048\n",
      "Epoch 12/25\n",
      "375/375 [==============================] - 45s 119ms/step - loss: 0.2543 - accuracy: 0.9063 - val_loss: 0.2515 - val_accuracy: 0.9072\n",
      "Epoch 13/25\n",
      "375/375 [==============================] - 45s 120ms/step - loss: 0.2471 - accuracy: 0.9078 - val_loss: 0.2543 - val_accuracy: 0.9053\n",
      "Epoch 14/25\n",
      "375/375 [==============================] - 44s 117ms/step - loss: 0.2445 - accuracy: 0.9084 - val_loss: 0.2646 - val_accuracy: 0.9028\n",
      "Epoch 15/25\n",
      "375/375 [==============================] - 44s 116ms/step - loss: 0.2370 - accuracy: 0.9120 - val_loss: 0.2497 - val_accuracy: 0.9071\n",
      "Epoch 16/25\n",
      "375/375 [==============================] - 45s 121ms/step - loss: 0.2309 - accuracy: 0.9145 - val_loss: 0.2456 - val_accuracy: 0.9065\n",
      "Epoch 17/25\n",
      "375/375 [==============================] - 45s 119ms/step - loss: 0.2242 - accuracy: 0.9147 - val_loss: 0.2389 - val_accuracy: 0.9103\n",
      "Epoch 18/25\n",
      "375/375 [==============================] - 44s 118ms/step - loss: 0.2215 - accuracy: 0.9163 - val_loss: 0.2500 - val_accuracy: 0.9106\n",
      "Epoch 19/25\n",
      "375/375 [==============================] - 44s 119ms/step - loss: 0.2125 - accuracy: 0.9202 - val_loss: 0.2392 - val_accuracy: 0.9127\n",
      "Epoch 20/25\n",
      "375/375 [==============================] - 44s 117ms/step - loss: 0.2165 - accuracy: 0.9183 - val_loss: 0.2300 - val_accuracy: 0.9166\n",
      "Epoch 21/25\n",
      "375/375 [==============================] - 44s 118ms/step - loss: 0.2040 - accuracy: 0.9241 - val_loss: 0.2470 - val_accuracy: 0.9112\n",
      "Epoch 22/25\n",
      "375/375 [==============================] - 44s 118ms/step - loss: 0.2055 - accuracy: 0.9231 - val_loss: 0.2339 - val_accuracy: 0.9144\n",
      "Epoch 23/25\n",
      "375/375 [==============================] - 44s 119ms/step - loss: 0.1942 - accuracy: 0.9243 - val_loss: 0.2301 - val_accuracy: 0.9161\n",
      "Epoch 24/25\n",
      "375/375 [==============================] - 45s 120ms/step - loss: 0.1915 - accuracy: 0.9277 - val_loss: 0.2324 - val_accuracy: 0.9158\n",
      "Epoch 25/25\n",
      "375/375 [==============================] - 45s 119ms/step - loss: 0.1968 - accuracy: 0.9246 - val_loss: 0.2357 - val_accuracy: 0.9159\n"
     ]
    }
   ],
   "source": [
    "history3 = model3.fit(X_train_conv, y_train, epochs=25, batch_size=128, validation_split=0.2)"
   ]
  },
  {
   "cell_type": "code",
   "execution_count": 35,
   "metadata": {
    "colab": {
     "base_uri": "https://localhost:8080/"
    },
    "id": "2mhzaUgbbmoa",
    "outputId": "01d5ddac-0081-465c-cc0f-aceac9e79254"
   },
   "outputs": [
    {
     "name": "stdout",
     "output_type": "stream",
     "text": [
      "1875/1875 [==============================] - 20s 10ms/step - loss: 0.1571 - accuracy: 0.9421\n",
      "Training accuracy: 0.9421\n",
      "Training loss: 0.1571\n",
      "\n",
      "313/313 [==============================] - 3s 10ms/step - loss: 0.2503 - accuracy: 0.9140\n",
      "Test accuracy: 0.914\n",
      "Test loss: 0.2503\n"
     ]
    }
   ],
   "source": [
    "train_loss, train_acc = model3.evaluate(X_train_conv, y_train)\n",
    "print(f'Training accuracy: {round(train_acc, 4)}')\n",
    "print(f'Training loss: {round(train_loss, 4)}\\n')\n",
    "\n",
    "test_loss, test_acc = model3.evaluate(X_test_conv, y_test)\n",
    "print(f'Test accuracy: {round(test_acc, 4)}')\n",
    "print(f'Test loss: {round(test_loss, 4)}')"
   ]
  },
  {
   "cell_type": "markdown",
   "metadata": {
    "id": "s273o6iElZ5M"
   },
   "source": [
    "It's slightly better than one from lab (acc 0.914 vs 0.9095).\n",
    "\n",
    "### Model 4"
   ]
  },
  {
   "cell_type": "code",
   "execution_count": 36,
   "metadata": {
    "id": "icyoyza8gE3w"
   },
   "outputs": [],
   "source": [
    "model4 = models.Sequential()\n",
    "\n",
    "model4.add(layers.Conv2D(32, (3, 3), activation='relu', input_shape=(28, 28, 1)))\n",
    "model4.add(layers.MaxPooling2D((2, 2)))\n",
    "model4.add(layers.Dropout(0.25))\n",
    "\n",
    "model4.add(layers.Conv2D(128, (3, 3), activation='relu'))\n",
    "model4.add(layers.MaxPooling2D((2, 2)))\n",
    "model4.add(layers.Dropout(0.25))\n",
    "\n",
    "model4.add(layers.Conv2D(64, (3, 3), activation='relu'))\n",
    "\n",
    "model4.add(layers.Flatten())\n",
    "model4.add(layers.Dense(128, activation='relu'))\n",
    "model4.add(layers.Dropout(0.15))\n",
    "model4.add(layers.Dense(10, activation='softmax'))\n",
    "\n",
    "model4.compile(optimizer='Adam', \n",
    "               loss='categorical_crossentropy',\n",
    "               metrics=['accuracy'])"
   ]
  },
  {
   "cell_type": "code",
   "execution_count": 37,
   "metadata": {
    "colab": {
     "base_uri": "https://localhost:8080/"
    },
    "id": "axJF8xJSl1WZ",
    "outputId": "e550b0ab-8d07-48d0-e7c3-77177095c3e9"
   },
   "outputs": [
    {
     "name": "stdout",
     "output_type": "stream",
     "text": [
      "Epoch 1/25\n",
      "200/200 [==============================] - 64s 316ms/step - loss: 1.1645 - accuracy: 0.5755 - val_loss: 0.5483 - val_accuracy: 0.7961\n",
      "Epoch 2/25\n",
      "200/200 [==============================] - 63s 315ms/step - loss: 0.5258 - accuracy: 0.8023 - val_loss: 0.4649 - val_accuracy: 0.8236\n",
      "Epoch 3/25\n",
      "200/200 [==============================] - 63s 313ms/step - loss: 0.4507 - accuracy: 0.8346 - val_loss: 0.3703 - val_accuracy: 0.8661\n",
      "Epoch 4/25\n",
      "200/200 [==============================] - 63s 313ms/step - loss: 0.3870 - accuracy: 0.8589 - val_loss: 0.3545 - val_accuracy: 0.8691\n",
      "Epoch 5/25\n",
      "200/200 [==============================] - 62s 311ms/step - loss: 0.3588 - accuracy: 0.8671 - val_loss: 0.3376 - val_accuracy: 0.8707\n",
      "Epoch 6/25\n",
      "200/200 [==============================] - 62s 312ms/step - loss: 0.3339 - accuracy: 0.8758 - val_loss: 0.3056 - val_accuracy: 0.8842\n",
      "Epoch 7/25\n",
      "200/200 [==============================] - 63s 315ms/step - loss: 0.3141 - accuracy: 0.8846 - val_loss: 0.3017 - val_accuracy: 0.8848\n",
      "Epoch 8/25\n",
      "200/200 [==============================] - 62s 312ms/step - loss: 0.3016 - accuracy: 0.8884 - val_loss: 0.2811 - val_accuracy: 0.8986\n",
      "Epoch 9/25\n",
      "200/200 [==============================] - 63s 313ms/step - loss: 0.2844 - accuracy: 0.8939 - val_loss: 0.2880 - val_accuracy: 0.8931\n",
      "Epoch 10/25\n",
      "200/200 [==============================] - 62s 311ms/step - loss: 0.2806 - accuracy: 0.8980 - val_loss: 0.2681 - val_accuracy: 0.9017\n",
      "Epoch 11/25\n",
      "200/200 [==============================] - 63s 314ms/step - loss: 0.2665 - accuracy: 0.9005 - val_loss: 0.2653 - val_accuracy: 0.9012\n",
      "Epoch 12/25\n",
      "200/200 [==============================] - 63s 313ms/step - loss: 0.2569 - accuracy: 0.9055 - val_loss: 0.2680 - val_accuracy: 0.8989\n",
      "Epoch 13/25\n",
      "200/200 [==============================] - 64s 319ms/step - loss: 0.2501 - accuracy: 0.9073 - val_loss: 0.2486 - val_accuracy: 0.9060\n",
      "Epoch 14/25\n",
      "200/200 [==============================] - 63s 315ms/step - loss: 0.2399 - accuracy: 0.9107 - val_loss: 0.2462 - val_accuracy: 0.9088\n",
      "Epoch 15/25\n",
      "200/200 [==============================] - 62s 308ms/step - loss: 0.2360 - accuracy: 0.9116 - val_loss: 0.2404 - val_accuracy: 0.9121\n",
      "Epoch 16/25\n",
      "200/200 [==============================] - 62s 309ms/step - loss: 0.2248 - accuracy: 0.9173 - val_loss: 0.2411 - val_accuracy: 0.9113\n",
      "Epoch 17/25\n",
      "200/200 [==============================] - 62s 310ms/step - loss: 0.2221 - accuracy: 0.9167 - val_loss: 0.2434 - val_accuracy: 0.9084\n",
      "Epoch 18/25\n",
      "200/200 [==============================] - 63s 315ms/step - loss: 0.2162 - accuracy: 0.9180 - val_loss: 0.2340 - val_accuracy: 0.9138\n",
      "Epoch 19/25\n",
      "200/200 [==============================] - 63s 317ms/step - loss: 0.2081 - accuracy: 0.9230 - val_loss: 0.2371 - val_accuracy: 0.9119\n",
      "Epoch 20/25\n",
      "200/200 [==============================] - 63s 316ms/step - loss: 0.2019 - accuracy: 0.9244 - val_loss: 0.2359 - val_accuracy: 0.9148\n",
      "Epoch 21/25\n",
      "200/200 [==============================] - 62s 312ms/step - loss: 0.2016 - accuracy: 0.9237 - val_loss: 0.2288 - val_accuracy: 0.9143\n",
      "Epoch 22/25\n",
      "200/200 [==============================] - 62s 312ms/step - loss: 0.1938 - accuracy: 0.9262 - val_loss: 0.2234 - val_accuracy: 0.9186\n",
      "Epoch 23/25\n",
      "200/200 [==============================] - 62s 312ms/step - loss: 0.1881 - accuracy: 0.9291 - val_loss: 0.2553 - val_accuracy: 0.9037\n",
      "Epoch 24/25\n",
      "200/200 [==============================] - 63s 316ms/step - loss: 0.1843 - accuracy: 0.9297 - val_loss: 0.2226 - val_accuracy: 0.9174\n",
      "Epoch 25/25\n",
      "200/200 [==============================] - 63s 313ms/step - loss: 0.1806 - accuracy: 0.9326 - val_loss: 0.2237 - val_accuracy: 0.9178\n"
     ]
    }
   ],
   "source": [
    "history4 = model4.fit(X_train_conv, y_train, epochs=25, batch_size=256, validation_split=0.15)"
   ]
  },
  {
   "cell_type": "code",
   "execution_count": 38,
   "metadata": {
    "colab": {
     "base_uri": "https://localhost:8080/"
    },
    "id": "b4ikIZKwmC1X",
    "outputId": "b87741e9-5dac-4cdc-80dc-c17dbb358431"
   },
   "outputs": [
    {
     "name": "stdout",
     "output_type": "stream",
     "text": [
      "1875/1875 [==============================] - 26s 14ms/step - loss: 0.1402 - accuracy: 0.9498\n",
      "Training accuracy: 0.9498\n",
      "Training loss: 0.1402\n",
      "\n",
      "313/313 [==============================] - 4s 13ms/step - loss: 0.2313 - accuracy: 0.9180\n",
      "Test accuracy: 0.918\n",
      "Test loss: 0.2313\n"
     ]
    }
   ],
   "source": [
    "train_loss, train_acc = model4.evaluate(X_train_conv, y_train)\n",
    "print(f'Training accuracy: {round(train_acc, 4)}')\n",
    "print(f'Training loss: {round(train_loss, 4)}\\n')\n",
    "\n",
    "test_loss, test_acc = model4.evaluate(X_test_conv, y_test)\n",
    "print(f'Test accuracy: {round(test_acc, 4)}')\n",
    "print(f'Test loss: {round(test_loss, 4)}')"
   ]
  },
  {
   "cell_type": "markdown",
   "metadata": {
    "id": "OHfXHMdXstOG"
   },
   "source": [
    "**And that's the best model! Maybe if we trained it a little bit longer... or did data augumentation...**"
   ]
  },
  {
   "cell_type": "code",
   "execution_count": 39,
   "metadata": {
    "colab": {
     "base_uri": "https://localhost:8080/",
     "height": 472
    },
    "id": "e1iWOQBNsb7F",
    "outputId": "0d40fbef-9014-4eec-f80e-3a6029019885"
   },
   "outputs": [
    {
     "data": {
      "image/png": "[encoded data removed]",
      "text/plain": [
       "<Figure size 576x576 with 2 Axes>"
      ]
     },
     "metadata": {
      "needs_background": "light",
      "tags": []
     },
     "output_type": "display_data"
    }
   ],
   "source": [
    "y_pred = model4.predict(X_test_conv)\n",
    "predicted_categories = tf.argmax(y_pred, axis=1)\n",
    "true_categories = tf.argmax(y_test, axis=1)\n",
    "\n",
    "cm = confusion_matrix(true_categories, predicted_categories)\n",
    "\n",
    "fig, ax = plt.subplots(figsize=(8, 8))\n",
    "plt.imshow(cm, cmap='RdBu')\n",
    "\n",
    "ax.set_xlabel('Predicted labels', fontsize=14)\n",
    "ax.set_ylabel('True labels', fontsize=14)\n",
    "ax.set_title('Confusion matrix', fontsize=18)\n",
    "\n",
    "ax.set_xticks(list(range(10)))\n",
    "ax.set_yticks(list(range(10)))\n",
    "\n",
    "plt.colorbar(ax=ax)\n",
    "plt.show()"
   ]
  },
  {
   "cell_type": "code",
   "execution_count": null,
   "metadata": {
    "id": "y_y2-ukqssi5"
   },
   "outputs": [],
   "source": []
  }
 ],
 "metadata": {
  "colab": {
   "collapsed_sections": [],
   "name": "problem2.ipynb",
   "provenance": []
  },
  "hide_input": false,
  "kernelspec": {
   "display_name": "Python 3",
   "language": "python",
   "name": "python3"
  },
  "language_info": {
   "codemirror_mode": {
    "name": "ipython",
    "version": 3
   },
   "file_extension": ".py",
   "mimetype": "text/x-python",
   "name": "python",
   "nbconvert_exporter": "python",
   "pygments_lexer": "ipython3",
   "version": "3.6.9"
  },
  "varInspector": {
   "cols": {
    "lenName": 16,
    "lenType": 16,
    "lenVar": 40
   },
   "kernels_config": {
    "python": {
     "delete_cmd_postfix": "",
     "delete_cmd_prefix": "del ",
     "library": "var_list.py",
     "varRefreshCmd": "print(var_dic_list())"
    },
    "r": {
     "delete_cmd_postfix": ") ",
     "delete_cmd_prefix": "rm(",
     "library": "var_list.r",
     "varRefreshCmd": "cat(var_dic_list()) "
    }
   },
   "types_to_exclude": [
    "module",
    "function",
    "builtin_function_or_method",
    "instance",
    "_Feature"
   ],
   "window_display": false
  }
 },
 "nbformat": 4,
 "nbformat_minor": 1
}
